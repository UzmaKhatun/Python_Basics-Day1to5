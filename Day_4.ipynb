{
 "cells": [
  {
   "cell_type": "markdown",
   "id": "8c55f3b4-2206-4121-84c4-30eac427e48e",
   "metadata": {},
   "source": [
    "# Day-4 Of \n",
    "# <b>#100 Days of Machine Learning</b>\n",
    "---"
   ]
  },
  {
   "cell_type": "markdown",
   "id": "814d2634-5098-4e98-83b4-9380a1eed4c1",
   "metadata": {},
   "source": [
    "# 🔹List : \n",
    "## List is a data type where u can store multiple items under 1 name.\n",
    "### More technically, lists act like dynamic arrays which means u can add more items on the fly.\n",
    "### Why lists are require in python?\n",
    "### if want to work on high data with same data type"
   ]
  },
  {
   "cell_type": "markdown",
   "id": "70d2ad46-dce2-45e0-94b5-d2915f00b265",
   "metadata": {},
   "source": [
    "### Array Vs Lists"
   ]
  },
  {
   "cell_type": "markdown",
   "id": "e2bd5e45-c741-4824-8513-c55e980ea0b4",
   "metadata": {},
   "source": [
    "- Fixed Vs Dynamic size In array we have to declare the size of an array In list no need to declare the size it has no limit (list is flexible)\n",
    "-  List is Convenience -> Hetrogeneous Array is homogeneous\n",
    "-   list is Slower as compare to array. Array do fast execution .\n",
    "-   list take more time to execute"
   ]
  },
  {
   "cell_type": "markdown",
   "id": "82049c44-b81c-42bf-85c7-4ee5708f2db6",
   "metadata": {},
   "source": [
    "### Characterstics of a List"
   ]
  },
  {
   "cell_type": "markdown",
   "id": "afc80ade-2f49-463d-9d4c-109f71fe11c8",
   "metadata": {},
   "source": [
    "- ordered -> l1 = [1,2,3] != l2 = [3,2,1]\n",
    "- Changeble / Mutable\n",
    "- Hetrogeneous -> diff data type can be stored\n",
    "- Can have duplicate elements\n",
    "- Are dynamic -> Memory space can increase\n",
    "- Can be nested -> [1,3,6,[4,9,0,2]]\n",
    "- items can be accessed\n",
    "- Can contain any kind of objects in python"
   ]
  },
  {
   "cell_type": "markdown",
   "id": "9c76154b-86a8-4370-9910-55f088a1a46a",
   "metadata": {},
   "source": [
    "### Creating List"
   ]
  },
  {
   "cell_type": "code",
   "execution_count": 1,
   "id": "639ff5f1-3adb-49ea-831e-7e1f4dde7a12",
   "metadata": {},
   "outputs": [
    {
     "name": "stdout",
     "output_type": "stream",
     "text": [
      "[]\n",
      "[1, 2, 3, [7, 8, 9]]\n",
      "[[1, 2, 3], [7, 8, 9]]\n",
      "[[[2, 4, 6], [3, 6, 9]], [[1, 5, 0], [4, 8, 2]]]\n",
      "[1, True, 5.89, None, 'uxma', (5+6j)]\n",
      "['u', 'x', 'm', 'a']\n",
      "[1, 2, 3, 4, 5]\n"
     ]
    }
   ],
   "source": [
    "# empty list\n",
    "l = []\n",
    "print(l)\n",
    "\n",
    "# 1D list / hetrogeneous \n",
    "l2 = [1,2,3,[7,8,9]]\n",
    "print(l2)\n",
    "\n",
    "# 2D list \n",
    "l3 = [[1,2,3],[7,8,9]]\n",
    "print(l3)\n",
    "\n",
    "# 3D list \n",
    "l4 = [[[2,4,6],[3,6,9]],[[1,5,0],[4,8,2]]]\n",
    "print(l4)\n",
    "\n",
    "# Hetrogeneous list\n",
    "l5 = [1,True,5.89,None,'uxma',5+6j]\n",
    "print(l5)\n",
    "\n",
    "# Type conversion\n",
    "l6 = list('uxma')\n",
    "print(l6)\n",
    "l7 = list((1,2,3,4,5))\n",
    "print(l7)"
   ]
  },
  {
   "cell_type": "markdown",
   "id": "b14069b6-be5a-4881-ace8-06eeb85cddd4",
   "metadata": {},
   "source": [
    "### id()"
   ]
  },
  {
   "cell_type": "code",
   "execution_count": 2,
   "id": "02769a21-9f08-42f1-905b-696e44ff650b",
   "metadata": {},
   "outputs": [
    {
     "name": "stdout",
     "output_type": "stream",
     "text": [
      "1436546911808\n"
     ]
    }
   ],
   "source": [
    "# id() is used to display the address of the data \n",
    "# display pointers of the data\n",
    "l = [1, 2, 3, 4, 5]\n",
    "print(id(l))"
   ]
  },
  {
   "cell_type": "markdown",
   "id": "d3051de4-722a-40b2-9e2c-fd186b907324",
   "metadata": {},
   "source": [
    "## Accessing items from a list"
   ]
  },
  {
   "cell_type": "markdown",
   "id": "df2c9b5f-35bf-48e5-8353-326055810bb2",
   "metadata": {},
   "source": [
    "#### indexing "
   ]
  },
  {
   "cell_type": "code",
   "execution_count": 3,
   "id": "76cb8821-e47d-4951-9449-dfb77a57033b",
   "metadata": {},
   "outputs": [
    {
     "name": "stdout",
     "output_type": "stream",
     "text": [
      "o\n",
      "u\n",
      "8\n",
      "5\n",
      "4\n"
     ]
    }
   ],
   "source": [
    "#              ---1D list---\n",
    "# Positive indexing -> goes left to right -> starts from 0\n",
    "l = ['b','h','o','p','a','l']\n",
    "print(l[2])\n",
    "# Negatice indexing -> goes right to left -> start from -1\n",
    "l2 = ['b','e','a','u','t','i','f','u','l']\n",
    "print(l2[-2])\n",
    "#              ---2D list---\n",
    "# Positive indexing\n",
    "li = [1,2,3,[9,8,6,5]]\n",
    "print(li[3][1])\n",
    "# Negative indexing\n",
    "lis = [2,4,6,[1,3,5,7]]\n",
    "print(lis[-1][-2])\n",
    "#              ---3D list---\n",
    "liss = [[[2,4,6],[3,6,9]],[[1,5,0],[4,8,2]]]\n",
    "print(liss[1][1][0])"
   ]
  },
  {
   "cell_type": "markdown",
   "id": "b955f08c-fc3f-4642-8910-91a53e6cd690",
   "metadata": {},
   "source": [
    "### slicing"
   ]
  },
  {
   "cell_type": "code",
   "execution_count": 4,
   "id": "d622a61d-624f-48dd-a7ca-b10fd7d1d485",
   "metadata": {},
   "outputs": [
    {
     "name": "stdout",
     "output_type": "stream",
     "text": [
      "['b', 'h', 'o', 'p']\n",
      "['f', 'u', 'l']\n",
      "['b', 'a', 't', 'f', 'l']\n",
      "['l', 'u', 'f', 'i', 't', 'u', 'a', 'e', 'b']\n"
     ]
    }
   ],
   "source": [
    "# slicing gives sub list/string\n",
    "# positive slicing\n",
    "l = ['b','h','o','p','a','l']\n",
    "print(l[0:4])   # last range is excluded\n",
    "# negative slicing\n",
    "l2 = ['b','e','a','u','t','i','f','u','l']\n",
    "print(l2[-3:])\n",
    "print(l2[::2])\n",
    "print(l2[::-1])"
   ]
  },
  {
   "cell_type": "markdown",
   "id": "1584ac91-d166-4b2b-b208-751d03f0f26b",
   "metadata": {},
   "source": [
    "## Adding items to a list"
   ]
  },
  {
   "cell_type": "markdown",
   "id": "2c1ed866-893e-44d8-8676-16da6993be3e",
   "metadata": {},
   "source": [
    "### .append()"
   ]
  },
  {
   "cell_type": "code",
   "execution_count": 5,
   "id": "88c3f60b-2ee5-4f7c-aafb-7cd9b31fc6c8",
   "metadata": {},
   "outputs": [
    {
     "name": "stdout",
     "output_type": "stream",
     "text": [
      "['uxma', 'abdul', 'axeema', 'wajid', 'atif']\n",
      "['uxma', 'abdul', 'axeema', 'wajid', 'atif', ['ali', 'danish', 'sahil']]\n"
     ]
    }
   ],
   "source": [
    "# .append() is used to insert the element into the list but in the last\n",
    "name = ['uxma','abdul','axeema','wajid']\n",
    "name.append('atif')\n",
    "print(name)\n",
    "name.append(['ali','danish','sahil'])\n",
    "print(name)"
   ]
  },
  {
   "cell_type": "markdown",
   "id": "dcd48b08-7650-4685-9a19-13fa2e9e90f7",
   "metadata": {},
   "source": [
    "### .extend()"
   ]
  },
  {
   "cell_type": "code",
   "execution_count": 6,
   "id": "31c11485-07ed-42f3-bac5-726a45ddb7d4",
   "metadata": {},
   "outputs": [
    {
     "name": "stdout",
     "output_type": "stream",
     "text": [
      "['a', 'b', 'c', 'd', 'e', 'f', 'g']\n",
      "['a', 'b', 'c', 'd', 'e', 'f', 'g', 'h', 'i', 'j', 'k']\n"
     ]
    }
   ],
   "source": [
    "# .extend() is used to insert the elements into the list but in the last\n",
    "alpha = ['a','b','c','d']\n",
    "alpha.extend(('e','f','g'))\n",
    "print(alpha)\n",
    "alpha.extend('hijk')\n",
    "print(alpha)"
   ]
  },
  {
   "cell_type": "markdown",
   "id": "8dd8a144-c3a2-4274-89ac-780e28024c88",
   "metadata": {},
   "source": [
    "### .insert()"
   ]
  },
  {
   "cell_type": "code",
   "execution_count": 7,
   "id": "a0a8581f-9089-49b8-9979-76a42423a6e4",
   "metadata": {},
   "outputs": [
    {
     "name": "stdout",
     "output_type": "stream",
     "text": [
      "['apple', 'banana', 'cherry', 'dragoun_fruit']\n"
     ]
    }
   ],
   "source": [
    "# .insert() is used to insert the element into the desired place\n",
    "# .insert(index,element)\n",
    "fruits = ['apple','cherry','dragoun_fruit']\n",
    "fruits.insert(1,'banana')           \n",
    "print(fruits)"
   ]
  },
  {
   "cell_type": "markdown",
   "id": "2d905392-c13c-42d2-a746-102d58a83cc4",
   "metadata": {},
   "source": [
    "## Updating items in a list"
   ]
  },
  {
   "cell_type": "markdown",
   "id": "7623972b-78a2-486b-858f-a22ab7c9c1db",
   "metadata": {},
   "source": [
    "### updating with indexing"
   ]
  },
  {
   "cell_type": "code",
   "execution_count": 8,
   "id": "047005af-dce9-4d3b-aff0-8c72992277af",
   "metadata": {},
   "outputs": [
    {
     "name": "stdout",
     "output_type": "stream",
     "text": [
      "['lady_finger', 'cabage', 'potato', 'bringer']\n",
      "['lady_finger', 'cabage', 'potato', 'bringer', 'cucumber']\n"
     ]
    }
   ],
   "source": [
    "vegies = ['lady_finger','better_gourd','potato','bringer']\n",
    "vegies[1] = 'cabage'\n",
    "print(vegies)\n",
    "vegies.append('cucumber')\n",
    "print(vegies)"
   ]
  },
  {
   "cell_type": "markdown",
   "id": "29921adf-630e-4fad-8f66-88d19b7035a8",
   "metadata": {},
   "source": [
    "### updating with slicing"
   ]
  },
  {
   "cell_type": "code",
   "execution_count": 9,
   "id": "759e3a81-4652-46c5-9e62-fa3c5a349917",
   "metadata": {},
   "outputs": [
    {
     "name": "stdout",
     "output_type": "stream",
     "text": [
      "[10, 20, 30, 40, 50, 60]\n"
     ]
    }
   ],
   "source": [
    "l = [1,2,3,4,5,6]\n",
    "l[:] = [10,20,30,40,50,60]\n",
    "print(l)"
   ]
  },
  {
   "cell_type": "markdown",
   "id": "d923d06e-e0dc-4ae3-8804-91b8983f66a7",
   "metadata": {},
   "source": [
    "## Deleting items from list"
   ]
  },
  {
   "cell_type": "markdown",
   "id": "7c2eb4ed-1039-48d6-8b0a-d41327988ab0",
   "metadata": {},
   "source": [
    "### .del()"
   ]
  },
  {
   "cell_type": "code",
   "execution_count": 10,
   "id": "c065e247-128a-4b84-a1cd-6b30d9b21b4b",
   "metadata": {},
   "outputs": [
    {
     "name": "stdout",
     "output_type": "stream",
     "text": [
      "[1, 2, 3, 4, 5, 6]\n",
      "[1, 2, 3, 4, 6]\n",
      "[1, 4, 6]\n"
     ]
    },
    {
     "ename": "NameError",
     "evalue": "name 'l' is not defined",
     "output_type": "error",
     "traceback": [
      "\u001b[1;31m---------------------------------------------------------------------------\u001b[0m",
      "\u001b[1;31mNameError\u001b[0m                                 Traceback (most recent call last)",
      "Cell \u001b[1;32mIn[10], line 9\u001b[0m\n\u001b[0;32m      7\u001b[0m \u001b[38;5;28mprint\u001b[39m(l)\n\u001b[0;32m      8\u001b[0m \u001b[38;5;28;01mdel\u001b[39;00m(l)         \u001b[38;5;66;03m# but not delete form the memory location\u001b[39;00m\n\u001b[1;32m----> 9\u001b[0m \u001b[38;5;28mprint\u001b[39m(\u001b[43ml\u001b[49m)\n",
      "\u001b[1;31mNameError\u001b[0m: name 'l' is not defined"
     ]
    }
   ],
   "source": [
    "# del() -> delete the existing list\n",
    "l = [1,2,3,4,5,6]\n",
    "print(l)\n",
    "del(l[-2])     # deleting with indexing\n",
    "print(l)\n",
    "del(l[1:3])    # deleting with slicing\n",
    "print(l)\n",
    "del(l)         # but not delete form the memory location\n",
    "print(l)"
   ]
  },
  {
   "cell_type": "markdown",
   "id": "3d76631b-d470-491f-a5bb-989ebee3b53e",
   "metadata": {},
   "source": [
    "### .remove()"
   ]
  },
  {
   "cell_type": "code",
   "execution_count": 11,
   "id": "28598565-9c0c-499a-8e00-a9711f3ca48a",
   "metadata": {},
   "outputs": [
    {
     "name": "stdout",
     "output_type": "stream",
     "text": [
      "['lady_finger', 'potato', 'bringer', 'cabage']\n"
     ]
    }
   ],
   "source": [
    "# .remove() is used to delet the element when the index is unknown\n",
    "vegies = ['lady_finger','better_gourd','potato','bringer','cabage']\n",
    "vegies.remove('better_gourd')\n",
    "print(vegies)"
   ]
  },
  {
   "cell_type": "markdown",
   "id": "59f11d73-f4f7-41fa-9282-442c59449785",
   "metadata": {},
   "source": [
    "### .pop()"
   ]
  },
  {
   "cell_type": "code",
   "execution_count": 12,
   "id": "956384a3-3867-4b9a-8b5f-dbfc5a08b8b9",
   "metadata": {},
   "outputs": [
    {
     "name": "stdout",
     "output_type": "stream",
     "text": [
      "['lady_finger', 'potato', 'bringer', 'cucumber']\n",
      "['lady_finger', 'potato', 'bringer']\n"
     ]
    }
   ],
   "source": [
    "# .pop() is used to delete the item of particular index or can delete last element if index parameter is not given\n",
    "veg = ['lady_finger', 'cabage', 'potato', 'bringer', 'cucumber']\n",
    "veg.pop(1)\n",
    "print(veg)\n",
    "veg.pop()       # default index is (-1)\n",
    "print(veg)"
   ]
  },
  {
   "cell_type": "markdown",
   "id": "47b0d45e-06e1-44ae-a282-b931a2eae84f",
   "metadata": {},
   "source": [
    "### .clear()"
   ]
  },
  {
   "cell_type": "code",
   "execution_count": 13,
   "id": "631e4c13-cb23-48de-905e-eb23c5a33ac2",
   "metadata": {},
   "outputs": [
    {
     "name": "stdout",
     "output_type": "stream",
     "text": [
      "['lady_finger', 'cabage', 'potato', 'bringer', 'cucumber']\n",
      "[]\n"
     ]
    }
   ],
   "source": [
    "# .clear() is used to make the list empty\n",
    "v = ['lady_finger', 'cabage', 'potato', 'bringer', 'cucumber']\n",
    "print(v)\n",
    "v.clear()\n",
    "print(v)"
   ]
  },
  {
   "cell_type": "markdown",
   "id": "02310d12-a40d-4ba0-99d8-a46eaee79b76",
   "metadata": {},
   "source": [
    "## Operations on Lists"
   ]
  },
  {
   "cell_type": "markdown",
   "id": "6a490c91-0fac-4efe-b207-0b0b55833472",
   "metadata": {},
   "source": [
    "### Arithmetic"
   ]
  },
  {
   "cell_type": "code",
   "execution_count": 14,
   "id": "16b2a338-eec2-4bfa-ac74-6fd199e2a7f3",
   "metadata": {},
   "outputs": [
    {
     "name": "stdout",
     "output_type": "stream",
     "text": [
      "[1, 2, 3, 4, 5, 6, 10, 20, 30, 40, 50, 60]\n",
      "[10, 20, 30, 40, 50, 60, 10, 20, 30, 40, 50, 60, 10, 20, 30, 40, 50, 60]\n"
     ]
    }
   ],
   "source": [
    "# arithmetic -> ( + , * )\n",
    "l = [1,2,3,4,5,6]\n",
    "li = [10,20,30,40,50,60]\n",
    "#  '+' operator concatinare / merge the list\n",
    "print(l + li) \n",
    "#  '*' operator create multiple list then merge\n",
    "print(li * 3)"
   ]
  },
  {
   "cell_type": "code",
   "execution_count": 15,
   "id": "f463b804-38fe-4458-8c7b-49dff08710bc",
   "metadata": {},
   "outputs": [
    {
     "name": "stdout",
     "output_type": "stream",
     "text": [
      "True\n",
      "False\n"
     ]
    }
   ],
   "source": [
    "# 'in' checks the existence of the element into a list\n",
    "v = ['lady_finger', 'cabage', 'potato', 'bringer', 'cucumber']\n",
    "print('potato' in v)\n",
    "# 'not in' checks the not existence of the element into a list\n",
    "print('potato' not in v)"
   ]
  },
  {
   "cell_type": "markdown",
   "id": "e8c9e024-4d2d-41dd-a1f9-29af2cd64834",
   "metadata": {},
   "source": [
    "## Loops in functions"
   ]
  },
  {
   "cell_type": "code",
   "execution_count": 16,
   "id": "947563e1-9350-44d3-b675-c41aa6a20e45",
   "metadata": {},
   "outputs": [
    {
     "name": "stdout",
     "output_type": "stream",
     "text": [
      "lenght of lady_finger : 11\n",
      "lenght of cabage : 6\n",
      "lenght of potato : 6\n",
      "lenght of bringer : 7\n",
      "lenght of cucumber : 8\n",
      "\n",
      "[2, 4, 6]\n",
      "[3, 6, 9]\n",
      "[1, 5, 0]\n",
      "[4, 8, 2]\n"
     ]
    }
   ],
   "source": [
    "# loops are iterable \n",
    "v = ['lady_finger', 'cabage', 'potato', 'bringer', 'cucumber']\n",
    "for i in v:\n",
    "    print(f'lenght of {i} : {len(i)}')\n",
    "\n",
    "print()\n",
    "#   ---loops in 3D---\n",
    "liss = [[[2,4,6],[3,6,9]],[[1,5,0],[4,8,2]]]\n",
    "for i in liss:\n",
    "    for j in i:\n",
    "        print(j)"
   ]
  },
  {
   "cell_type": "markdown",
   "id": "102b2199-5bb8-4da6-8032-3a14e891d6c5",
   "metadata": {},
   "source": [
    "## List functions"
   ]
  },
  {
   "cell_type": "markdown",
   "id": "32d6de50-e51f-4076-9aa0-b10c1649b0e9",
   "metadata": {},
   "source": [
    "## Universal methods\n",
    "### len()/min()/max()/sorted()"
   ]
  },
  {
   "cell_type": "code",
   "execution_count": 17,
   "id": "f9777184-cfa2-4a85-9b52-4ca2fcf7799f",
   "metadata": {},
   "outputs": [
    {
     "name": "stdout",
     "output_type": "stream",
     "text": [
      "lenght of list : 5\n",
      "Maximum element of list as per ASCII value : potato\n",
      "Minimum element of list as per ASCII value : bringer\n",
      "Sorted elements as per ASCII value : ['potato', 'lady_finger', 'cucumber', 'cabage', 'bringer']\n"
     ]
    }
   ],
   "source": [
    "# len() is use to find the lenght of the list\n",
    "v = ['lady_finger', 'cabage', 'potato', 'bringer', 'cucumber']\n",
    "print(f'lenght of list : {len(v)}')\n",
    "# max() is use to find the maximum of the list\n",
    "print(f'Maximum element of list as per ASCII value : {max(v)}')\n",
    "# min() is use to find the mininum of the list\n",
    "print(f'Minimum element of list as per ASCII value : {min(v)}')\n",
    "# sorted() is use to sort element of the list\n",
    "# it create new list \n",
    "print(f'Sorted elements as per ASCII value : {sorted(v,reverse=True)}')"
   ]
  },
  {
   "cell_type": "markdown",
   "id": "2bdf22cf-a301-4f5b-9db6-76ac0d17585e",
   "metadata": {},
   "source": [
    "### .count()"
   ]
  },
  {
   "cell_type": "code",
   "execution_count": 18,
   "id": "c3b65ba2-aa63-4190-83dd-92c33281d887",
   "metadata": {},
   "outputs": [
    {
     "name": "stdout",
     "output_type": "stream",
     "text": [
      "Occurance of 20 is 5\n"
     ]
    }
   ],
   "source": [
    "# .count() is used to find the occurance of elements in the list\n",
    "l = [10, 20, 30, 40, 50, 20, 10, 20, 30, 20, 50, 60, 10, 20, 30, 40, 50, 60]\n",
    "print(f'Occurance of 20 is {l.count(20)}')"
   ]
  },
  {
   "cell_type": "markdown",
   "id": "80663047-fb13-4199-96d2-de924e6f7581",
   "metadata": {},
   "source": [
    "### .reverse()"
   ]
  },
  {
   "cell_type": "code",
   "execution_count": 19,
   "id": "7bc44275-07d7-491a-bb6f-6d8b79247539",
   "metadata": {},
   "outputs": [
    {
     "name": "stdout",
     "output_type": "stream",
     "text": [
      "['ashraf', 'sajid', 'nema', 'abdul', 'uxma']\n",
      "None\n"
     ]
    }
   ],
   "source": [
    "# .reverse() is used to reverse the list\n",
    "# it do permenante change in the list\n",
    "# and not print directly\n",
    "name = ['uxma', 'abdul', 'nema', 'sajid', 'ashraf']\n",
    "name.reverse()\n",
    "print(name)\n",
    "print(name.reverse())   # give none"
   ]
  },
  {
   "cell_type": "markdown",
   "id": "dcfaf009-4b20-4a95-ad75-ef2132a21677",
   "metadata": {},
   "source": [
    "### .sort()"
   ]
  },
  {
   "cell_type": "code",
   "execution_count": 20,
   "id": "68dc66ac-efff-4b88-b500-db610e35ab2c",
   "metadata": {},
   "outputs": [
    {
     "name": "stdout",
     "output_type": "stream",
     "text": [
      "['uxma', 'sajid', 'axeema', 'ashraf', 'abdul']\n"
     ]
    }
   ],
   "source": [
    "# .sort() is used to sort the list\n",
    "# do permanent change\n",
    "# can't print directly\n",
    "name = ['uxma', 'abdul', 'axeema', 'sajid', 'ashraf']\n",
    "name.sort(reverse=True)\n",
    "print(name)"
   ]
  },
  {
   "cell_type": "markdown",
   "id": "7765611e-c3fb-4421-b096-29dd0b1876cf",
   "metadata": {},
   "source": [
    "### .copy()"
   ]
  },
  {
   "cell_type": "code",
   "execution_count": 21,
   "id": "9d5c7eef-cfa0-493e-9d35-c47812f43217",
   "metadata": {},
   "outputs": [
    {
     "name": "stdout",
     "output_type": "stream",
     "text": [
      "['ali', 'danish', 'sahil']\n",
      "1436551818880\n",
      "['ali', 'danish', 'sahil']\n",
      "1436551812224\n"
     ]
    }
   ],
   "source": [
    "# .copy() is used to copy the list\n",
    "# do deep copy of a list\n",
    "# to check print 'id' of the list\n",
    "n1 = ['ali','danish','sahil']\n",
    "n2 = n1.copy()\n",
    "print(n1)\n",
    "print(id(n1))\n",
    "print(n2)\n",
    "print(id(n2))"
   ]
  },
  {
   "cell_type": "markdown",
   "id": "c5fa7540-f602-49af-9c49-604a1fa18be4",
   "metadata": {},
   "source": [
    "### 2 Ways to traverse a list"
   ]
  },
  {
   "cell_type": "markdown",
   "id": "c915bd94-5e16-44dd-8c40-d32a44ba8449",
   "metadata": {},
   "source": [
    ". itemwise "
   ]
  },
  {
   "cell_type": "code",
   "execution_count": 22,
   "id": "4e1156c1-6ea9-4a13-8ab8-6f24c30118c4",
   "metadata": {},
   "outputs": [
    {
     "name": "stdout",
     "output_type": "stream",
     "text": [
      "1\n",
      "2\n",
      "3\n",
      "4\n",
      "5\n"
     ]
    }
   ],
   "source": [
    "l1 = [1,2,3,4,5]\n",
    "for i in l1:\n",
    "    print(i)"
   ]
  },
  {
   "cell_type": "markdown",
   "id": "3b9cc629-b6f5-449a-8633-19bb2b6b960f",
   "metadata": {},
   "source": [
    ". indexwise"
   ]
  },
  {
   "cell_type": "code",
   "execution_count": 23,
   "id": "ae54234b-297d-40b3-93f5-f7685dfbd15a",
   "metadata": {},
   "outputs": [
    {
     "name": "stdout",
     "output_type": "stream",
     "text": [
      "8\n",
      "7\n",
      "6\n",
      "5\n",
      "4\n",
      "3\n"
     ]
    }
   ],
   "source": [
    "l1 = [8,7,6,5,4,3]\n",
    "for i in range(len(l1)):\n",
    "    print(l1[i])"
   ]
  },
  {
   "cell_type": "markdown",
   "id": "083ca883-7563-46f3-81ae-483fc824383c",
   "metadata": {},
   "source": [
    "## Disadvantages of Python Lists"
   ]
  },
  {
   "cell_type": "markdown",
   "id": "e0a9a050-9904-4cb5-a2ca-44bd600f5b9c",
   "metadata": {},
   "source": [
    "- slow------\n",
    "- eats up more memory-------\n",
    "- risky usage-------"
   ]
  },
  {
   "cell_type": "markdown",
   "id": "25c2eaf3-e2dc-47fd-a45b-556cb3d024bc",
   "metadata": {},
   "source": [
    "# 🔹Tuple :\n",
    "## A tuple in Python is similar to a list. The difference between the two is that we cannot change the elements of a tuple once it is assigned wheeras we can change the elements os a list.<br>\n",
    "In short, a tuple is an immutable list. A tuple can not be changed in any way once it is created.<br>\n",
    "#### Characterstics\n",
    "1. Orderd\n",
    "2. Unchangeable\n",
    "3. Allows duplicats"
   ]
  },
  {
   "cell_type": "markdown",
   "id": "074b6414-1727-4fe2-b286-bcfb39b47ac9",
   "metadata": {},
   "source": [
    "### Creating Tuples"
   ]
  },
  {
   "cell_type": "code",
   "execution_count": 24,
   "id": "7a82f11e-a188-49b9-96b0-87c353eb1f4d",
   "metadata": {},
   "outputs": [
    {
     "name": "stdout",
     "output_type": "stream",
     "text": [
      "()\n",
      "1\n",
      "<class 'int'>\n",
      "(3,)\n",
      "<class 'tuple'>\n",
      "(3, 6, 8, 2)\n",
      "(3, 'Uzma', 34.7, True, None)\n",
      "(3, 5, 7, (8, 4, 2))\n",
      "('a', 'b', 'c', 'd')\n"
     ]
    }
   ],
   "source": [
    "# empty tuple\n",
    "tup = ()\n",
    "print(tup)\n",
    "# tuple with single term\n",
    "tup1 = (1)\n",
    "print(tup1)\n",
    "print(type(tup1))  # int type not tuple\n",
    "tup2 = (3,)\n",
    "print(tup2)\n",
    "print(type(tup2))\n",
    "# Homogeneous tuple\n",
    "tup3 = (3,6,8,2)\n",
    "print(tup3)\n",
    "# Hetrogeneous tuple\n",
    "tup4 = (3,'Uzma',34.7,True,None)\n",
    "print(tup4)\n",
    "# tuple in tuple\n",
    "tup5 = (3,5,7,(8,4,2))\n",
    "print(tup5)\n",
    "# tuple constructure\n",
    "tup6 = tuple(('a','b','c','d'))\n",
    "print(tup6)"
   ]
  },
  {
   "cell_type": "markdown",
   "id": "6182ea1b-f061-448a-afee-162b0348fab8",
   "metadata": {},
   "source": [
    "### Accessing items\n",
    "1. Indexing\n",
    "2. Slicing"
   ]
  },
  {
   "cell_type": "code",
   "execution_count": 25,
   "id": "6995478f-041a-4465-a320-9bfdc83ac400",
   "metadata": {},
   "outputs": [
    {
     "name": "stdout",
     "output_type": "stream",
     "text": [
      "ab\n",
      "ms\n",
      "('uk', 'ak', 'ab', 'kk')\n",
      "('ak', 'ms', 'kk', 'ab')\n",
      "('ak', 'ms', 'kk', 'ab', 'ak', 'uk')\n"
     ]
    }
   ],
   "source": [
    "tup7 = ('uk','ak','ab','kk','ms','ak')\n",
    "# Positive indexing\n",
    "print(tup7[2])       \n",
    "# Negative indexing\n",
    "print(tup7[-2])\n",
    "# Positive slicing\n",
    "print(tup7[0:4])\n",
    "# Negative slicing\n",
    "print(tup7[-1:-5:-1])\n",
    "# Reverse tuple\n",
    "print(tup7[::-1])"
   ]
  },
  {
   "cell_type": "markdown",
   "id": "c12603f6-ead8-4e2d-ba52-3f894f11bdec",
   "metadata": {},
   "source": [
    "### 1. Editing tuple\n",
    "### 2. Adding items\n",
    "### 3. Del particular item\n",
    "Not allowed bcz tuple is immutable"
   ]
  },
  {
   "cell_type": "code",
   "execution_count": 26,
   "id": "ea71080e-86af-4711-bd12-18e023e0afa2",
   "metadata": {},
   "outputs": [
    {
     "ename": "TypeError",
     "evalue": "'tuple' object does not support item assignment",
     "output_type": "error",
     "traceback": [
      "\u001b[1;31m---------------------------------------------------------------------------\u001b[0m",
      "\u001b[1;31mTypeError\u001b[0m                                 Traceback (most recent call last)",
      "Cell \u001b[1;32mIn[26], line 2\u001b[0m\n\u001b[0;32m      1\u001b[0m tup8 \u001b[38;5;241m=\u001b[39m (\u001b[38;5;124m'\u001b[39m\u001b[38;5;124mmang\u001b[39m\u001b[38;5;124m'\u001b[39m,\u001b[38;5;124m'\u001b[39m\u001b[38;5;124mora\u001b[39m\u001b[38;5;124m'\u001b[39m,\u001b[38;5;124m'\u001b[39m\u001b[38;5;124mbana\u001b[39m\u001b[38;5;124m'\u001b[39m,\u001b[38;5;124m'\u001b[39m\u001b[38;5;124mapp\u001b[39m\u001b[38;5;124m'\u001b[39m)\n\u001b[1;32m----> 2\u001b[0m \u001b[43mtup8\u001b[49m\u001b[43m[\u001b[49m\u001b[38;5;241;43m3\u001b[39;49m\u001b[43m]\u001b[49m \u001b[38;5;241m=\u001b[39m \u001b[38;5;124m'\u001b[39m\u001b[38;5;124mgua\u001b[39m\u001b[38;5;124m'\u001b[39m\n\u001b[0;32m      3\u001b[0m \u001b[38;5;28mprint\u001b[39m(tup8)   \u001b[38;5;66;03m# it will raise an error\u001b[39;00m\n",
      "\u001b[1;31mTypeError\u001b[0m: 'tuple' object does not support item assignment"
     ]
    }
   ],
   "source": [
    "tup8 = ('mang','ora','bana','app')\n",
    "tup8[3] = 'gua'\n",
    "print(tup8)   # it will raise an error"
   ]
  },
  {
   "cell_type": "markdown",
   "id": "86ac83d2-9c48-455f-a832-2815afdb2ec8",
   "metadata": {},
   "source": [
    "### Operations on tuple\n",
    "1.     * and +\n",
    "2. membership operator\n",
    "3. iterable"
   ]
  },
  {
   "cell_type": "code",
   "execution_count": 27,
   "id": "62484d0d-f9b2-4e6c-929b-0b5415876634",
   "metadata": {},
   "outputs": [
    {
     "name": "stdout",
     "output_type": "stream",
     "text": [
      "('go', 'so', 'of', 'to', 'on', 34, 65, 87, 98)\n",
      "('go', 'so', 'of', 'to', 'on', 'go', 'so', 'of', 'to', 'on')\n",
      "tototo\n",
      "False\n",
      "True\n",
      "go so of to on "
     ]
    }
   ],
   "source": [
    "tup9 = ('go','so','of','to','on')\n",
    "# * and + operator\n",
    "print(tup9 + (34,65,87,98))\n",
    "print(tup9 * 2)\n",
    "print(tup9[3] * 3)\n",
    "# membership operator\n",
    "print('ok' in tup9)\n",
    "print('on' in tup9)\n",
    "# iterable\n",
    "for word in tup9:\n",
    "    print(word,end=\" \")"
   ]
  },
  {
   "cell_type": "markdown",
   "id": "a1b31e93-5e18-4b1b-8ad7-1723364e937a",
   "metadata": {},
   "source": [
    "### Tuples Functins"
   ]
  },
  {
   "cell_type": "code",
   "execution_count": 28,
   "id": "2b82620e-f31f-49e8-a16d-ca0d17645c60",
   "metadata": {},
   "outputs": [
    {
     "name": "stdout",
     "output_type": "stream",
     "text": [
      "Lenght :  9\n",
      "Sum :  40\n",
      "Max :  9\n",
      "Min :  -5\n",
      "Sorted : \n",
      " [-5, 1, 2, 5, 6, 7, 7, 8, 9]\n",
      "Sorted : \n",
      " [9, 8, 7, 7, 6, 5, 2, 1, -5]\n",
      "Occurance of 7 :  2\n",
      "Index of 5 :  3\n"
     ]
    }
   ],
   "source": [
    "tup0 = (2,5,7,9,-5,1,8,7,6)\n",
    "# len()\n",
    "print('Lenght : ',len(tup0))\n",
    "# sum()\n",
    "print('Sum : ',sum(tup0))\n",
    "# max()\n",
    "print('Max : ',max(tup0))\n",
    "# min()\n",
    "print('Min : ',min(tup0))\n",
    "# asscending sorted()\n",
    "print('Sorted : \\n',sorted(tup0))\n",
    "# desscending sorted()\n",
    "print('Sorted : \\n',sorted(tup0,reverse = True))\n",
    "# count()\n",
    "print('Occurance of 7 : ',tup0.count(7))\n",
    "# index()\n",
    "print('Index of 5 : ',tup0.index(9))"
   ]
  },
  {
   "cell_type": "markdown",
   "id": "8d2f1975-5a87-4737-932d-452b8aa2eb62",
   "metadata": {},
   "source": [
    "### Difference between Tuple and List\n",
    "1. Syntax  -> List [] & Tuple ()\n",
    "2. Mutability  -> List mutable & Tuple immutable\n",
    "3. Speed  -> tuple is faster than List bcz its immutable\n",
    "4. Memory  ->  Tuple takes less memory and List takes more memory\n",
    "5. Build-in-functions -> List has more functions than tuple\n",
    "6. Error-pron -> List is risky to use\n",
    "7. Usability -> "
   ]
  },
  {
   "cell_type": "code",
   "execution_count": 29,
   "id": "ecdc3bdc-7551-45e3-a1dc-c799ea7fe03e",
   "metadata": {},
   "outputs": [
    {
     "name": "stdout",
     "output_type": "stream",
     "text": [
      "List time :  0.7535068988800049\n",
      "\n",
      "Tuple time :  0.7127180099487305\n"
     ]
    }
   ],
   "source": [
    "# speed\n",
    "import time\n",
    "lis = range(10000000)\n",
    "tup = range(10000000)\n",
    "l_t = time.time()\n",
    "for i in lis:\n",
    "    i * 50000\n",
    "print('List time : ',time.time() - l_t)\n",
    "t_t = time.time()\n",
    "for j in tup:\n",
    "    j * 50000\n",
    "print('\\nTuple time : ',time.time() - t_t)"
   ]
  },
  {
   "cell_type": "code",
   "execution_count": 30,
   "id": "54f46f10-1c08-4d14-8e18-e3eb718db0bf",
   "metadata": {},
   "outputs": [
    {
     "name": "stdout",
     "output_type": "stream",
     "text": [
      "List space :  48\n",
      "Tuple space :  48\n"
     ]
    }
   ],
   "source": [
    "# memory\n",
    "import sys\n",
    "print('List space : ',sys.getsizeof(lis))\n",
    "print('Tuple space : ',sys.getsizeof(tup))"
   ]
  },
  {
   "cell_type": "markdown",
   "id": "0c36bc32-20d1-4fea-84a6-a06f0dcc4872",
   "metadata": {},
   "source": [
    "#### Unpacking"
   ]
  },
  {
   "cell_type": "code",
   "execution_count": 31,
   "id": "057f2f24-2794-47aa-b53e-aa7c3efe0245",
   "metadata": {},
   "outputs": [
    {
     "name": "stdout",
     "output_type": "stream",
     "text": [
      "34\n",
      "56\n",
      "87\n",
      "23\n",
      "rich\n",
      "richer\n",
      "richest\n",
      "2 \n",
      " 6 \n",
      " [0, 9, 4, 1]\n"
     ]
    }
   ],
   "source": [
    "# unpacking tuple\n",
    "a,b,c,d = (34,56,87,23)\n",
    "print(a)\n",
    "print(b)\n",
    "print(c)\n",
    "print(d)\n",
    "# unpacking list\n",
    "e,f,g = ['rich','richer','richest']\n",
    "print(e)\n",
    "print(f)\n",
    "print(g)\n",
    "# when don't know the values\n",
    "i,j,*k = [2,6,0,9,4,1]\n",
    "print(i,'\\n',j,'\\n',k)"
   ]
  },
  {
   "cell_type": "markdown",
   "id": "53507ec8-e671-46ac-9156-c001ca4fa409",
   "metadata": {},
   "source": [
    "#### Swaping two no."
   ]
  },
  {
   "cell_type": "code",
   "execution_count": 32,
   "id": "02acb0e3-a456-492a-a318-f6e7d3650d43",
   "metadata": {},
   "outputs": [
    {
     "name": "stdout",
     "output_type": "stream",
     "text": [
      "u =  21 ,v =  23\n",
      "After swaping\n",
      "u =  23 ,v =  21\n"
     ]
    }
   ],
   "source": [
    "u = 21\n",
    "v = 23\n",
    "print('u = ',u,',v = ',v)\n",
    "u,v = v,u\n",
    "print('After swaping')\n",
    "print('u = ',u,',v = ',v)"
   ]
  },
  {
   "cell_type": "markdown",
   "id": "62e7cf9c-f18d-45af-a047-28bbd1586485",
   "metadata": {},
   "source": [
    "# 🔹Sets\n",
    "## A set is an unorderd of items. Every set element is unique(no duplicates) and must be immutabe(cannot be changed).<br>\n",
    "### However, a set itself is mutable. We can add or remove items from it.<br>\n",
    "### Sets can also be used to perform mathematical set operations like union, intersection, symmetric difference, etc.\n",
    "#### Characterstics :\n",
    "1. Unordered\n",
    "2. Mutable\n",
    "3. No Duplicates\n",
    "4. Can't contain mutable data types  "
   ]
  },
  {
   "cell_type": "code",
   "execution_count": 33,
   "id": "e439b970-6732-4c6d-aac3-066bd091241f",
   "metadata": {},
   "outputs": [
    {
     "name": "stdout",
     "output_type": "stream",
     "text": [
      "{8, 3, 6}\n",
      "<class 'set'>\n",
      "{True, 35.63, None, 46, 'hey'}\n",
      "{0, 1, 2, 3, 4, 5, 6, 7, 8, 9}\n",
      "True\n"
     ]
    }
   ],
   "source": [
    "# to create empty set use set constructure\n",
    "# 1D or Homogeneous set\n",
    "s = {3,6,8}\n",
    "print(s)\n",
    "print(type(s))\n",
    "# Hetrogeneous set\n",
    "s1 = {'hey',46,True,35.63,None}\n",
    "print(s1)\n",
    "# using type conversion\n",
    "# # s2 = set((3,6,8,9,3,1))\n",
    "# # print(s2)\n",
    "# not allow duplicates\n",
    "s3 = {4,7,9,4,5,7,6,4,8,3,2,1,5,8,9,0}\n",
    "print(s3)\n",
    "# unorderd\n",
    "s4 = {1,2,6,3}\n",
    "s5 = {3,6,2,1}\n",
    "print(s4 == s5)"
   ]
  },
  {
   "cell_type": "markdown",
   "id": "959063a3-79aa-4591-aea2-d851ef6aedfd",
   "metadata": {},
   "source": [
    "#### Accessing items\n",
    "#### Editing items\n",
    "it is not allowe to access and edit the items bcz it is unorderd"
   ]
  },
  {
   "cell_type": "markdown",
   "id": "e06d4d28-12fb-43bb-8cfa-0ad662bdf397",
   "metadata": {},
   "source": [
    "#### Adding items"
   ]
  },
  {
   "cell_type": "code",
   "execution_count": 34,
   "id": "c52dc7e7-4e59-404c-bd61-62662b293f11",
   "metadata": {},
   "outputs": [
    {
     "name": "stdout",
     "output_type": "stream",
     "text": [
      "{8, 3, 100, 5}\n",
      "{2, 3, 4, 5, 6, 7, 8, 9}\n"
     ]
    }
   ],
   "source": [
    "# .add() -> single insert\n",
    "s6 = {8,5,3}\n",
    "s6.add(100)      \n",
    "print(s6)\n",
    "# .update  -> multiple insert\n",
    "s7 = {2,5,7,9}\n",
    "s7.update([4,6,8,9,3,2])\n",
    "print(s7)"
   ]
  },
  {
   "cell_type": "markdown",
   "id": "8207e2f2-301a-4398-be98-8ac4d97c0f0e",
   "metadata": {},
   "source": [
    "#### Deleting items"
   ]
  },
  {
   "cell_type": "code",
   "execution_count": 35,
   "id": "a52fa6f4-0df2-443c-90f9-2d9d39e006bc",
   "metadata": {},
   "outputs": [
    {
     "name": "stdout",
     "output_type": "stream",
     "text": [
      "{'f', 'g', 'b', 'e', 'a', 'd'}\n",
      "{'f', 'g', 'b', 'e', 'a', 'd'}\n",
      "{'g', 'b', 'e', 'a', 'd'}\n",
      "set()\n"
     ]
    }
   ],
   "source": [
    "# .remove()\n",
    "s8 = {'a','b','c','d','e','f','g'}\n",
    "s8.remove('c')\n",
    "print(s8)\n",
    "# .discard()\n",
    "s8.discard('i')\n",
    "print(s8)\n",
    "# .pop() random \n",
    "s8.pop()\n",
    "print(s8)\n",
    "# .clear()\n",
    "s8.clear()\n",
    "print(s8)\n",
    "# .del()\n",
    "# # del(s8)     \n",
    "# # print(s8)"
   ]
  },
  {
   "cell_type": "markdown",
   "id": "994c7a27-6d63-473d-b002-d294a2349259",
   "metadata": {},
   "source": [
    "#### Set Operations"
   ]
  },
  {
   "cell_type": "code",
   "execution_count": 36,
   "id": "361a5191-c30b-46e0-8fff-ec104c3f218c",
   "metadata": {},
   "outputs": [
    {
     "name": "stdout",
     "output_type": "stream",
     "text": [
      "Union :  {0, 1, 2, 4, 5, 6, 7, 8, 9}\n",
      "Union :  {0, 1, 2, 4, 5, 6, 7, 8, 9}\n",
      "Intersection : {0, 2, 4, 6}\n",
      "Intersection : {0, 2, 4, 6}\n",
      "Difference :  {8, 1}\n",
      "Difference :  {9, 5, 7}\n",
      "{1, 5, 7, 8, 9}\n",
      "Membership :  True\n",
      "Membership :  False\n",
      "Update :  None\n",
      "Iteration in set :\n",
      "0 1 2 4 5 6 7 8 9 "
     ]
    }
   ],
   "source": [
    "set1 = {1,2,4,6,8,0}\n",
    "set2 = {2,5,6,7,9,0,4}\n",
    "# union()\n",
    "print('Union : ',set1 | set2)\n",
    "print('Union : ',set1.union(set2))\n",
    "# intersection()\n",
    "print('Intersection :',set1 & set2)\n",
    "print('Intersection :',set1.intersection(set2))\n",
    "# difference\n",
    "print('Difference : ',set1 - set2)\n",
    "print('Difference : ',set2.difference(set1))\n",
    "print(set2 ^ set1)\n",
    "print('Membership : ',1 in set1)\n",
    "print('Membership : ',10 in set2)\n",
    "se = set1.update(set2)\n",
    "print('Update : ',se)\n",
    "print('Iteration in set :')\n",
    "for i in set1:\n",
    "    print(i,end=' ')"
   ]
  },
  {
   "cell_type": "markdown",
   "id": "0220415b-2e86-4d96-89e5-24c36d8c3d84",
   "metadata": {},
   "source": [
    "#### Set functions"
   ]
  },
  {
   "cell_type": "code",
   "execution_count": 37,
   "id": "ebea49e7-bb60-4c8a-a32a-394ce77608f9",
   "metadata": {},
   "outputs": [
    {
     "name": "stdout",
     "output_type": "stream",
     "text": [
      "Lenght :  7\n",
      "Min :  0\n",
      "Max :  8\n",
      "Sum :  29\n",
      "Sorted :  [0, 2, 3, 4, 5, 7, 8]\n"
     ]
    }
   ],
   "source": [
    "set3 = {3,5,7,8,0,4,2}\n",
    "print('Lenght : ',len(set3))\n",
    "print('Min : ',min(set3))\n",
    "print('Max : ',max(set3))\n",
    "print('Sum : ',sum(set3))\n",
    "print('Sorted : ',sorted(set3))    # result in list"
   ]
  },
  {
   "cell_type": "code",
   "execution_count": 38,
   "id": "7b56357f-b5df-48bd-885a-250b988765cf",
   "metadata": {},
   "outputs": [
    {
     "name": "stdout",
     "output_type": "stream",
     "text": [
      "Checking subset :  True\n",
      "Checking subset :  False\n",
      "Deep copy\n",
      "s1 :  {1, 2, 3, 4, 5}\n",
      "s3 :  {1, 2, 3, 4, 5}\n",
      "Address of s1 :  1436552119456\n",
      "Address of s3 :  1436552119008\n"
     ]
    }
   ],
   "source": [
    "s1 = {1,2,3,4,5}\n",
    "s2 = {2,3,4}\n",
    "print('Checking subset : ',s2.issubset(s1))\n",
    "print('Checking subset : ',s2.issuperset(s1))\n",
    "print('Deep copy')\n",
    "s3 = s1.copy()\n",
    "print('s1 : ',s1)\n",
    "print('s3 : ',s3)\n",
    "print('Address of s1 : ',id(s1))\n",
    "print('Address of s3 : ',id(s3))"
   ]
  },
  {
   "cell_type": "markdown",
   "id": "de901238-5ce7-48bf-a7f1-fb4c793026dc",
   "metadata": {},
   "source": [
    "#### Frozen set\n",
    "frozen set is just an immutable version of a Python set object"
   ]
  },
  {
   "cell_type": "code",
   "execution_count": 39,
   "id": "1561678c-a83c-4951-a747-acd23cdcbdda",
   "metadata": {},
   "outputs": [
    {
     "name": "stdout",
     "output_type": "stream",
     "text": [
      "frozenset({2, 4, 6, 7, 8})\n",
      "<class 'frozenset'>\n"
     ]
    }
   ],
   "source": [
    "fs = frozenset([2,4,6,7,8])\n",
    "print(fs)\n",
    "print(type(fs))"
   ]
  },
  {
   "cell_type": "markdown",
   "id": "0b5c3355-c7a7-429d-942d-06024380ce87",
   "metadata": {},
   "source": [
    "# 🔹Dictionary\n",
    "## Dictionary in Python is a collection of keys values, used to store data values like a map, which, unlike other data types which hold only a single value as an element.<br>\n",
    "### In some languages it is known as map or assosiative arrays.<br>\n",
    "#### dict = {'name' : 'nimra','age' : 28,'gender' : 'female'}<br>\n",
    "Characteristics:\n",
    "1. Mutable\n",
    "2. Indexing has no meaning\n",
    "3. keys can't be duplicated\n",
    "4. keys can't be mutable items"
   ]
  },
  {
   "cell_type": "markdown",
   "id": "dc86efd5-89cc-4781-a125-0559f564845c",
   "metadata": {},
   "source": [
    "#### creating dictionary"
   ]
  },
  {
   "cell_type": "code",
   "execution_count": 40,
   "id": "f3dba9a4-14c7-4195-88b7-92bd9746ff60",
   "metadata": {},
   "outputs": [
    {
     "name": "stdout",
     "output_type": "stream",
     "text": [
      "Empty dictionary :  {}\n",
      "1D Dictionary :  {'name': 'nimra', 'age': 21, 'gender': 'female'}\n",
      "2D Dictionary :  {'name': 'sajid', 'class': 12, 'subjects': {'math': 95, 'urdu': 92, 'science': 97}}\n"
     ]
    }
   ],
   "source": [
    "d = {}\n",
    "print('Empty dictionary : ',d)\n",
    "# print('Dictionary construction')\n",
    "# d0 = dict([('class',15),('hall',3),('playground',2),('canteen',4)])\n",
    "# print('Dictionary : ',d0)\n",
    "d1 = {'name' : 'nimra','age' : 21,'gender' : 'female'}\n",
    "print('1D Dictionary : ',d1)\n",
    "d2 = {'name':'sajid','class':12,'subjects':{'math':95,'urdu':92,'science':97}}\n",
    "print('2D Dictionary : ',d2)"
   ]
  },
  {
   "cell_type": "markdown",
   "id": "881632bc-874b-4bd6-8511-89447b796ca2",
   "metadata": {},
   "source": [
    "#### Accessing items"
   ]
  },
  {
   "cell_type": "code",
   "execution_count": 41,
   "id": "b57fcdc2-d508-46f3-9314-44b82b8f1125",
   "metadata": {},
   "outputs": [
    {
     "name": "stdout",
     "output_type": "stream",
     "text": [
      "Fetch item :  azeema\n",
      "With get :  {'math': 95, 'urdu': 92, 'science': 97}\n"
     ]
    }
   ],
   "source": [
    "d2 = {'name':'azeema','class':12,'subjects':{'math':95,'urdu':92,'science':97}}\n",
    "print('Fetch item : ',d2['name'])\n",
    "print('With get : ',d2.get('subjects'))"
   ]
  },
  {
   "cell_type": "markdown",
   "id": "c18ae8ee-a688-4b31-8b32-75d80dfb1b1a",
   "metadata": {},
   "source": [
    "#### Adding key-value pair"
   ]
  },
  {
   "cell_type": "code",
   "execution_count": 42,
   "id": "4b9ffb05-1dc6-466b-bde9-97750f4d9c0c",
   "metadata": {},
   "outputs": [
    {
     "name": "stdout",
     "output_type": "stream",
     "text": [
      "Updated dictionary :  {'name': 'uzma', 'age': 21, 'gender': 'female', 'height': 4.7}\n"
     ]
    }
   ],
   "source": [
    "dic = {'name' : 'uzma','age' : 21,'gender' : 'female'}\n",
    "dic['height'] = 4.7\n",
    "print('Updated dictionary : ',dic)"
   ]
  },
  {
   "cell_type": "markdown",
   "id": "4bf1de79-d763-4fce-b65c-759daf25f3ec",
   "metadata": {},
   "source": [
    "#### Remove key-value pair"
   ]
  },
  {
   "cell_type": "code",
   "execution_count": 43,
   "id": "721f4fdb-14dd-4d62-8b0f-0b857352c3bf",
   "metadata": {},
   "outputs": [
    {
     "name": "stdout",
     "output_type": "stream",
     "text": [
      "{'name': 'uzma', 'age': 21, 'gender': 'female', 'height': 4.7}\n",
      "{'name': 'uzma', 'age': 21, 'height': 4.7}\n",
      "{'name': 'uzma', 'age': 21}\n",
      "{'age': 21}\n",
      "{}\n"
     ]
    }
   ],
   "source": [
    "di = {'name': 'uzma', 'age': 21, 'gender': 'female', 'height': 4.7}\n",
    "print(di)\n",
    "# pop particular key-value pair\n",
    "di.pop('gender')\n",
    "print(di)\n",
    "# pop last key-value pair\n",
    "di.popitem()\n",
    "print(di)\n",
    "# pop particular key-value pair\n",
    "del di['name']\n",
    "print(di)\n",
    "# empty dictionary\n",
    "di.clear()\n",
    "print(di)"
   ]
  },
  {
   "cell_type": "code",
   "execution_count": 44,
   "id": "88d0f2ce-2778-474e-9429-28737f3450b4",
   "metadata": {},
   "outputs": [
    {
     "name": "stdout",
     "output_type": "stream",
     "text": [
      "{'name': 'azeema', 'class': 12, 'subjects': {'math': 98, 'urdu': 92, 'science': 97}}\n",
      "{'name': 'azeema', 'class': 12, 'subjects': {'math': 98, 'urdu': 92, 'science': 97, 'english': 85}}\n"
     ]
    }
   ],
   "source": [
    "d2 = {'name':'azeema','class':12,'subjects':{'math':95,'urdu':92,'science':97}}\n",
    "# update 2D dictionary\n",
    "d2['subjects']['math'] = 98\n",
    "print(d2)\n",
    "# add item in 2D dictionary\n",
    "d2['subjects']['english'] = 85\n",
    "print(d2)"
   ]
  },
  {
   "cell_type": "markdown",
   "id": "c6e6cb99-e2c2-4ed9-9953-4ee5b121344e",
   "metadata": {},
   "source": [
    "#### Dictionary Operations"
   ]
  },
  {
   "cell_type": "code",
   "execution_count": 45,
   "id": "bd9a35ac-c262-4fdc-a106-0ca4b06f7682",
   "metadata": {},
   "outputs": [
    {
     "name": "stdout",
     "output_type": "stream",
     "text": [
      "False\n",
      "Iteration : \n",
      "name azeema\n",
      "class 12\n",
      "subjects {'math': 95, 'urdu': 92, 'science': 97}\n"
     ]
    }
   ],
   "source": [
    "# membership operation\n",
    "d2 = {'name':'azeema','class':12,'subjects':{'math':95,'urdu':92,'science':97}}\n",
    "print('school' in d2)\n",
    "# iteration\n",
    "print('Iteration : ')\n",
    "for i in d2:\n",
    "    print(i,d2[i])"
   ]
  },
  {
   "cell_type": "markdown",
   "id": "f4651881-021d-428a-82d1-1700f9e91d91",
   "metadata": {},
   "source": [
    "#### Dictionary functions"
   ]
  },
  {
   "cell_type": "code",
   "execution_count": 46,
   "id": "bad6190d-b4e6-43bf-878e-88d6050d8f8b",
   "metadata": {},
   "outputs": [
    {
     "name": "stdout",
     "output_type": "stream",
     "text": [
      "Lenght :  3\n",
      "Min :  class\n",
      "Max :  subjects\n",
      "Sorted :  ['class', 'name', 'subjects']\n"
     ]
    }
   ],
   "source": [
    "print('Lenght : ',len(d2))\n",
    "print('Min : ',min(d2))\n",
    "print('Max : ',max(d2))\n",
    "print('Sorted : ',sorted(d2))    # result in list"
   ]
  },
  {
   "cell_type": "code",
   "execution_count": 47,
   "id": "efba2e9f-d1f6-46f0-8c27-ebc085e8895d",
   "metadata": {},
   "outputs": [
    {
     "name": "stdout",
     "output_type": "stream",
     "text": [
      "Dictionary items :  dict_items([('name', 'azeema'), ('class', 12), ('subjects', {'math': 95, 'urdu': 92, 'science': 97})])\n",
      "Dictionary keys :  dict_keys(['name', 'class', 'subjects'])\n",
      "Dictionary values :  dict_values(['azeema', 12, {'math': 95, 'urdu': 92, 'science': 97}])\n"
     ]
    }
   ],
   "source": [
    "print('Dictionary items : ',d2.items())\n",
    "print('Dictionary keys : ',d2.keys())\n",
    "print('Dictionary values : ',d2.values())"
   ]
  },
  {
   "cell_type": "code",
   "execution_count": null,
   "id": "819ef9c8-c6b4-433e-8825-c64852b1634a",
   "metadata": {},
   "outputs": [],
   "source": []
  },
  {
   "cell_type": "code",
   "execution_count": null,
   "id": "ae1d8069-3b3f-49be-b302-c2c87e166003",
   "metadata": {},
   "outputs": [],
   "source": []
  },
  {
   "cell_type": "code",
   "execution_count": null,
   "id": "91df95c8-b65b-41af-9a9c-bb4cfe1776d4",
   "metadata": {},
   "outputs": [],
   "source": []
  }
 ],
 "metadata": {
  "kernelspec": {
   "display_name": "Python 3 (ipykernel)",
   "language": "python",
   "name": "python3"
  },
  "language_info": {
   "codemirror_mode": {
    "name": "ipython",
    "version": 3
   },
   "file_extension": ".py",
   "mimetype": "text/x-python",
   "name": "python",
   "nbconvert_exporter": "python",
   "pygments_lexer": "ipython3",
   "version": "3.10.10"
  }
 },
 "nbformat": 4,
 "nbformat_minor": 5
}
