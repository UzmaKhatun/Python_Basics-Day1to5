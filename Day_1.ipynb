{
 "cells": [
  {
   "cell_type": "markdown",
   "id": "8823e416-1e05-4216-8198-9769f1723963",
   "metadata": {},
   "source": [
    "# Day-1 Of \n",
    "# <b>#100 Days of Machine Learning</b>"
   ]
  },
  {
   "cell_type": "markdown",
   "id": "62e62f59-e0ef-42c6-bf89-848a6c301b0e",
   "metadata": {},
   "source": [
    "# Python output"
   ]
  },
  {
   "cell_type": "code",
   "execution_count": 1,
   "id": "ad6ad638-916d-4116-b334-511f7d6c7c13",
   "metadata": {},
   "outputs": [
    {
     "name": "stdout",
     "output_type": "stream",
     "text": [
      "Hello World\n"
     ]
    }
   ],
   "source": [
    "print('Hello World')"
   ]
  },
  {
   "cell_type": "code",
   "execution_count": 2,
   "id": "87570bd5-adec-406c-9ff6-4d2bb893ae1c",
   "metadata": {},
   "outputs": [
    {
     "name": "stdout",
     "output_type": "stream",
     "text": [
      "101\n"
     ]
    }
   ],
   "source": [
    "print(45+56)"
   ]
  },
  {
   "cell_type": "code",
   "execution_count": 3,
   "id": "0ceb1eaa-67a1-4548-bc5c-f7829c4ce556",
   "metadata": {},
   "outputs": [
    {
     "name": "stdout",
     "output_type": "stream",
     "text": [
      "Hey 34 4.5 True None\n"
     ]
    }
   ],
   "source": [
    "print('Hey',34,4.5,True,None)"
   ]
  },
  {
   "cell_type": "code",
   "execution_count": 4,
   "id": "88e6872b-3b7f-4fdc-bec8-0c4a2c4a0779",
   "metadata": {},
   "outputs": [
    {
     "name": "stdout",
     "output_type": "stream",
     "text": [
      "Hello World\n"
     ]
    }
   ],
   "source": [
    "print('Hello',end=\" \")\n",
    "print('World')"
   ]
  },
  {
   "cell_type": "code",
   "execution_count": 5,
   "id": "eb49bd69-ad63-438b-8669-ba2edd82a349",
   "metadata": {},
   "outputs": [
    {
     "name": "stdout",
     "output_type": "stream",
     "text": [
      "Hello-World\n"
     ]
    }
   ],
   "source": [
    "print('Hello',end=\"-\")\n",
    "print('World')"
   ]
  },
  {
   "cell_type": "markdown",
   "id": "a1b4fa47-ebfd-40bb-97ab-5bb66bba2d84",
   "metadata": {},
   "source": [
    "# Data types"
   ]
  },
  {
   "cell_type": "code",
   "execution_count": 6,
   "id": "a7545af3-e9c6-403a-afc4-65a01b7a00b8",
   "metadata": {},
   "outputs": [
    {
     "name": "stdout",
     "output_type": "stream",
     "text": [
      "45\n"
     ]
    }
   ],
   "source": [
    "#  int data type\n",
    "print(45)"
   ]
  },
  {
   "cell_type": "code",
   "execution_count": 7,
   "id": "95b05547-ba2f-41e3-a1a4-85297d89559f",
   "metadata": {},
   "outputs": [
    {
     "name": "stdout",
     "output_type": "stream",
     "text": [
      "inf\n"
     ]
    }
   ],
   "source": [
    "print(1e309)"
   ]
  },
  {
   "cell_type": "code",
   "execution_count": 8,
   "id": "4243d8c6-cf9e-4a9c-920e-2e92945e8ee3",
   "metadata": {},
   "outputs": [
    {
     "name": "stdout",
     "output_type": "stream",
     "text": [
      "1e+308\n"
     ]
    }
   ],
   "source": [
    "# 1*10^308\n",
    "print(1e308)"
   ]
  },
  {
   "cell_type": "code",
   "execution_count": 9,
   "id": "372caccb-6ed1-48c5-a8bf-0f4e7d6616f3",
   "metadata": {},
   "outputs": [
    {
     "name": "stdout",
     "output_type": "stream",
     "text": [
      "56.78\n"
     ]
    }
   ],
   "source": [
    "#  float \\ decimals \n",
    "print(56.78)"
   ]
  },
  {
   "cell_type": "code",
   "execution_count": 10,
   "id": "3f2e571a-bb0b-4281-adba-7cc27092f56a",
   "metadata": {},
   "outputs": [
    {
     "name": "stdout",
     "output_type": "stream",
     "text": [
      "inf\n"
     ]
    }
   ],
   "source": [
    "print(1.7e309)"
   ]
  },
  {
   "cell_type": "code",
   "execution_count": 11,
   "id": "d8912f0a-f603-421a-ae32-cc65279272a4",
   "metadata": {},
   "outputs": [
    {
     "name": "stdout",
     "output_type": "stream",
     "text": [
      "1.7e+308\n"
     ]
    }
   ],
   "source": [
    "print(1.7e308)"
   ]
  },
  {
   "cell_type": "code",
   "execution_count": 12,
   "id": "cbe896ce-add4-4c92-9f9f-a218dce8fd12",
   "metadata": {},
   "outputs": [
    {
     "name": "stdout",
     "output_type": "stream",
     "text": [
      "True\n",
      "False\n"
     ]
    }
   ],
   "source": [
    "# boolean data type\n",
    "print(True)\n",
    "print(False)"
   ]
  },
  {
   "cell_type": "code",
   "execution_count": 13,
   "id": "4016fac9-f420-470e-b040-28849fc06ae9",
   "metadata": {},
   "outputs": [
    {
     "name": "stdout",
     "output_type": "stream",
     "text": [
      "Uzma Khatun\n"
     ]
    }
   ],
   "source": [
    "# string \\ text\n",
    "print('Uzma Khatun')"
   ]
  },
  {
   "cell_type": "code",
   "execution_count": 14,
   "id": "97fa70ed-0215-46f6-b262-6dd7c95b76fa",
   "metadata": {},
   "outputs": [
    {
     "name": "stdout",
     "output_type": "stream",
     "text": [
      "[12, 54, 76, 87, 54, 97]\n"
     ]
    }
   ],
   "source": [
    "# list\n",
    "print([12,54,76,87,54,97])"
   ]
  },
  {
   "cell_type": "code",
   "execution_count": 15,
   "id": "e79773a8-d408-4404-9622-1e1f213639d9",
   "metadata": {},
   "outputs": [
    {
     "name": "stdout",
     "output_type": "stream",
     "text": [
      "(45, 76, 87, 90, 24, 43)\n"
     ]
    }
   ],
   "source": [
    "# tuple\n",
    "print((45,76,87,90,24,43))"
   ]
  },
  {
   "cell_type": "code",
   "execution_count": 16,
   "id": "6e401f5a-2fd6-4b9c-9434-8575c331ad47",
   "metadata": {},
   "outputs": [
    {
     "name": "stdout",
     "output_type": "stream",
     "text": [
      "{0, 1, 2, 3, 4, 7, 9}\n"
     ]
    }
   ],
   "source": [
    "# set\n",
    "print({4,3,7,9,2,9,1,0})"
   ]
  },
  {
   "cell_type": "code",
   "execution_count": 17,
   "id": "8d0bec59-763c-4829-8967-3f4208c33ccc",
   "metadata": {},
   "outputs": [
    {
     "name": "stdout",
     "output_type": "stream",
     "text": [
      "{'name': 'uzma', 'age': 21, 'height': 4.7, 'married': False}\n"
     ]
    }
   ],
   "source": [
    "# dictionary ->  key-value pairs\n",
    "print({'name':'uzma','age':21,'height':4.7,'married':False})"
   ]
  },
  {
   "cell_type": "markdown",
   "id": "a5c8d39e-1a29-4247-b49b-13c82a1cafe3",
   "metadata": {},
   "source": [
    "# Type()"
   ]
  },
  {
   "cell_type": "code",
   "execution_count": 18,
   "id": "542fdf80-e3fb-408c-89a3-411b455c7c0a",
   "metadata": {},
   "outputs": [
    {
     "data": {
      "text/plain": [
       "int"
      ]
     },
     "execution_count": 18,
     "metadata": {},
     "output_type": "execute_result"
    }
   ],
   "source": [
    "type(23)"
   ]
  },
  {
   "cell_type": "code",
   "execution_count": 19,
   "id": "6de4c972-ea9e-4545-9988-1e894daab788",
   "metadata": {},
   "outputs": [
    {
     "data": {
      "text/plain": [
       "float"
      ]
     },
     "execution_count": 19,
     "metadata": {},
     "output_type": "execute_result"
    }
   ],
   "source": [
    "type(2.65)"
   ]
  },
  {
   "cell_type": "code",
   "execution_count": 20,
   "id": "5022b97d-8124-41ec-96b9-f2faaaefd0ea",
   "metadata": {},
   "outputs": [
    {
     "data": {
      "text/plain": [
       "str"
      ]
     },
     "execution_count": 20,
     "metadata": {},
     "output_type": "execute_result"
    }
   ],
   "source": [
    "type('uxma')"
   ]
  },
  {
   "cell_type": "code",
   "execution_count": 21,
   "id": "4e25f90e-cf5c-4840-a385-abc251155ed2",
   "metadata": {},
   "outputs": [
    {
     "data": {
      "text/plain": [
       "bool"
      ]
     },
     "execution_count": 21,
     "metadata": {},
     "output_type": "execute_result"
    }
   ],
   "source": [
    "type(True)"
   ]
  },
  {
   "cell_type": "code",
   "execution_count": 22,
   "id": "46a91c63-ee38-421a-be04-946ccb40f6fc",
   "metadata": {},
   "outputs": [
    {
     "data": {
      "text/plain": [
       "list"
      ]
     },
     "execution_count": 22,
     "metadata": {},
     "output_type": "execute_result"
    }
   ],
   "source": [
    "type([3,5,7,8,0])"
   ]
  },
  {
   "cell_type": "code",
   "execution_count": 23,
   "id": "b2bfc6f5-81ed-4125-bde4-b270215821d6",
   "metadata": {},
   "outputs": [
    {
     "data": {
      "text/plain": [
       "tuple"
      ]
     },
     "execution_count": 23,
     "metadata": {},
     "output_type": "execute_result"
    }
   ],
   "source": [
    "type((3,6,8,2))"
   ]
  },
  {
   "cell_type": "code",
   "execution_count": 24,
   "id": "77a2b2d8-7d61-4d8b-ba6d-d051aec3ed97",
   "metadata": {},
   "outputs": [
    {
     "data": {
      "text/plain": [
       "complex"
      ]
     },
     "execution_count": 24,
     "metadata": {},
     "output_type": "execute_result"
    }
   ],
   "source": [
    "type(5+6j)"
   ]
  },
  {
   "cell_type": "markdown",
   "id": "ed2ef200-fc8b-40b0-a497-a264d8e13a9f",
   "metadata": {},
   "source": [
    "# Variables"
   ]
  },
  {
   "cell_type": "code",
   "execution_count": 25,
   "id": "59f58945-d514-4522-b343-563709f90886",
   "metadata": {},
   "outputs": [
    {
     "name": "stdout",
     "output_type": "stream",
     "text": [
      "Hello uxmaxxatun\n"
     ]
    }
   ],
   "source": [
    "# containers for future use\n",
    "name = 'uxmaxxatun'\n",
    "print('Hello',name)"
   ]
  },
  {
   "cell_type": "code",
   "execution_count": 26,
   "id": "b9c3f629-1195-402e-b1b8-8327b9a7cc3e",
   "metadata": {},
   "outputs": [
    {
     "name": "stdout",
     "output_type": "stream",
     "text": [
      "110\n"
     ]
    }
   ],
   "source": [
    "a = 34\n",
    "b = 76\n",
    "print(a+b)"
   ]
  },
  {
   "cell_type": "code",
   "execution_count": 27,
   "id": "eecc19f8-0973-4387-8ce8-8cf34af37638",
   "metadata": {},
   "outputs": [
    {
     "name": "stdout",
     "output_type": "stream",
     "text": [
      "uzma python is dynamic typing program\n"
     ]
    }
   ],
   "source": [
    "#  Static typing -> Where u tell the data type of the variable\n",
    "#         int name = 'uzma';\n",
    "#  Dynamic typing -> Where u don't tell the data type of the variable\n",
    "name = 'uzma'\n",
    "print(name,'python is dynamic typing program')"
   ]
  },
  {
   "cell_type": "code",
   "execution_count": 28,
   "id": "75324d31-8d95-4532-8f88-83c288f920c0",
   "metadata": {},
   "outputs": [
    {
     "name": "stdout",
     "output_type": "stream",
     "text": [
      "5\n",
      "nitish\n"
     ]
    }
   ],
   "source": [
    "# Static binding -> Where we can't update the type of the data in whole program (have fix data type)\n",
    "#           int a = 56;\n",
    "#           a = 'uzma';    -> error\n",
    "#           print(a)\n",
    "# Dynamic binding ->  Where we can update any type of the data in variable (not having fix data type)\n",
    "a = 5\n",
    "print(a)\n",
    "a = 'nitish'\n",
    "print(a)"
   ]
  },
  {
   "cell_type": "code",
   "execution_count": 29,
   "id": "2bddcb83-3f8f-4293-8b7b-2bff5ff32ac9",
   "metadata": {},
   "outputs": [
    {
     "name": "stdout",
     "output_type": "stream",
     "text": [
      "45 79 22\n",
      "45 45 45\n"
     ]
    }
   ],
   "source": [
    "#  stylish way to declare the variable\n",
    "a,b,c = 45,79,22\n",
    "print(a,b,c)\n",
    "d=e=f=45\n",
    "print(d,e,f)"
   ]
  },
  {
   "cell_type": "markdown",
   "id": "ca2633b3-d0c5-4b3b-8992-7af07eea7324",
   "metadata": {},
   "source": [
    "# Comments"
   ]
  },
  {
   "cell_type": "code",
   "execution_count": 30,
   "id": "0b922cbc-7961-4d93-b17c-4befe8772f04",
   "metadata": {},
   "outputs": [
    {
     "name": "stdout",
     "output_type": "stream",
     "text": [
      "17\n"
     ]
    }
   ],
   "source": [
    "#  '#' is used for single line comment \n",
    "#   interpreter doesn't execute that line\n",
    "a = 5\n",
    "b = 12\n",
    "print(a+b)"
   ]
  },
  {
   "cell_type": "markdown",
   "id": "68e0e464-21c2-4c2f-ba18-4222df638a27",
   "metadata": {},
   "source": [
    "# Keywords & identifiers"
   ]
  },
  {
   "cell_type": "code",
   "execution_count": 31,
   "id": "acc548e6-a4a5-44d2-ae1a-b84787e7fa7a",
   "metadata": {},
   "outputs": [],
   "source": [
    "# Compilation -> Process of converting ur code into binary language\n",
    "# Compiler or Interpreter compile the code\n",
    "# Keywords -> 32 reversed words  "
   ]
  },
  {
   "cell_type": "code",
   "execution_count": 32,
   "id": "a9af793f-7ca6-4bf4-8dcc-48a43b097a9e",
   "metadata": {},
   "outputs": [],
   "source": [
    "# identifiers -> name of the variable\n",
    "# identifiers cann't be keywords"
   ]
  },
  {
   "cell_type": "markdown",
   "id": "405e0b81-e7f1-4df8-97ff-5cac875bd6d9",
   "metadata": {},
   "source": [
    "# User Input"
   ]
  },
  {
   "cell_type": "code",
   "execution_count": 33,
   "id": "8414d7b0-f48f-423f-85d2-1ce3f796fc90",
   "metadata": {},
   "outputs": [],
   "source": [
    "# Static software -> Where u interect the page and get the information / output (eg: calender,clock,blog)\n",
    "# Dynamic software -> Where u talk with page, give some input and get the output (eg: youtube,zomato,ola)"
   ]
  },
  {
   "cell_type": "code",
   "execution_count": 34,
   "id": "aa2dc26c-54a8-4e12-a0ee-bb8c8b5d2d5e",
   "metadata": {},
   "outputs": [
    {
     "name": "stdout",
     "output_type": "stream",
     "text": [
      "Enter email :  uzma123@gmail.com\n"
     ]
    },
    {
     "data": {
      "text/plain": [
       "'uzma123@gmail.com'"
      ]
     },
     "execution_count": 34,
     "metadata": {},
     "output_type": "execute_result"
    }
   ],
   "source": [
    "input('Enter email : ')"
   ]
  },
  {
   "cell_type": "code",
   "execution_count": 35,
   "id": "fe4d322d-9eb2-4416-a26b-e75b7f72ddbf",
   "metadata": {},
   "outputs": [
    {
     "name": "stdout",
     "output_type": "stream",
     "text": [
      "Enter 1st no. :  34\n",
      "Enter 2nd no. :  54\n"
     ]
    },
    {
     "name": "stdout",
     "output_type": "stream",
     "text": [
      "3454\n"
     ]
    }
   ],
   "source": [
    "# Think the process then convert it into the program \n",
    "#        stirng is (universal data formate) that's why input only take str\n",
    "a = input('Enter 1st no. : ')\n",
    "b = input('Enter 2nd no. : ')\n",
    "result = a + b\n",
    "print(result)"
   ]
  },
  {
   "cell_type": "markdown",
   "id": "3d00f2e1-4f61-4037-b340-1a708fb3d956",
   "metadata": {},
   "source": [
    "# Type conversion"
   ]
  },
  {
   "cell_type": "code",
   "execution_count": 36,
   "id": "548b57ad-d8bf-40ad-8e40-5470790d7da7",
   "metadata": {},
   "outputs": [
    {
     "name": "stdout",
     "output_type": "stream",
     "text": [
      "10.870000000000001\n",
      "66\n"
     ]
    }
   ],
   "source": [
    "# Type casting changes permenantly and Type conversion changes temporary\n",
    "# Type conversion -> To convert one data type into another data type\n",
    "# Implicit type conversion -> Where compiler by default understand the data type (not work every time)\n",
    "print(4 + 6.87)\n",
    "# print(7 + '4')    (error)\n",
    "# Explicit type conversion -> Where we have to tell the type of the data type (force-fully converting)\n",
    "print(12 + int('54'))"
   ]
  },
  {
   "cell_type": "code",
   "execution_count": 37,
   "id": "339f0a4e-0a2d-4aa2-85c0-ae05e499b08e",
   "metadata": {},
   "outputs": [
    {
     "data": {
      "text/plain": [
       "45"
      ]
     },
     "execution_count": 37,
     "metadata": {},
     "output_type": "execute_result"
    }
   ],
   "source": [
    "int(45.56)"
   ]
  },
  {
   "cell_type": "code",
   "execution_count": 38,
   "id": "5d7b8b7f-fc84-4ae0-9a6f-718c64a359ec",
   "metadata": {},
   "outputs": [
    {
     "name": "stdout",
     "output_type": "stream",
     "text": [
      "Enter 1st no. :  12\n",
      "Enter 2nd no. :  47\n"
     ]
    },
    {
     "name": "stdout",
     "output_type": "stream",
     "text": [
      "12 + 47 = 59\n"
     ]
    }
   ],
   "source": [
    "x1 = int(input('Enter 1st no. : '))\n",
    "x2 = int(input('Enter 2nd no. : '))\n",
    "re = x1 + x2\n",
    "print(f'{x1} + {x2} = {re}')"
   ]
  },
  {
   "cell_type": "code",
   "execution_count": 39,
   "id": "bd9f083f-a69e-43ab-b974-85cbc1b77920",
   "metadata": {},
   "outputs": [
    {
     "name": "stdout",
     "output_type": "stream",
     "text": [
      "<class 'int'>\n"
     ]
    }
   ],
   "source": [
    "print(type(x1))"
   ]
  },
  {
   "cell_type": "markdown",
   "id": "3e502920-316c-44f8-b039-759ad042b804",
   "metadata": {},
   "source": [
    "# Literals"
   ]
  },
  {
   "cell_type": "code",
   "execution_count": 40,
   "id": "bdfadd2f-fc80-45a5-9d64-edef3b262baa",
   "metadata": {},
   "outputs": [
    {
     "name": "stdout",
     "output_type": "stream",
     "text": [
      "2\n",
      "100\n",
      "72\n",
      "300\n"
     ]
    }
   ],
   "source": [
    "# Literals -> it is value that we assign in the variable\n",
    "a = 0b10      # binary literal\n",
    "print(a)\n",
    "b = 100       # decimal literal\n",
    "print(b)\n",
    "c = 0o110     # octal literal\n",
    "print(c)\n",
    "d = 0x12c     # Hexadecimal literal\n",
    "print(d)"
   ]
  },
  {
   "cell_type": "code",
   "execution_count": 41,
   "id": "428d1586-7713-48c9-8e9a-812bce728030",
   "metadata": {},
   "outputs": [
    {
     "name": "stdout",
     "output_type": "stream",
     "text": [
      "10.45\n",
      "1500.0\n",
      "0.0015\n"
     ]
    }
   ],
   "source": [
    "# float literal\n",
    "fl_1 = 10.45\n",
    "print(fl_1)\n",
    "fl_2 = 1.5e3    # 1.5 * 10^3\n",
    "print(fl_2)\n",
    "fl_3 = 1.5e-3\n",
    "print(fl_3)"
   ]
  },
  {
   "cell_type": "code",
   "execution_count": 42,
   "id": "c8433361-1538-4330-96cc-a5ee1794ed93",
   "metadata": {},
   "outputs": [
    {
     "name": "stdout",
     "output_type": "stream",
     "text": [
      "uzmakhatun\n",
      "BCA(BU)\n",
      "letter \n",
      "Dear uxmaxxatun;\n",
      "     U have passed ur 1st year\n",
      "     with flying colors\n"
     ]
    }
   ],
   "source": [
    "# string\n",
    "st_1 = 'uzmakhatun'\n",
    "st_2 = \"BCA(BU)\"\n",
    "st_3 = '''letter \n",
    "Dear uxmaxxatun;\n",
    "     U have passed ur 1st year\n",
    "     with flying colors'''\n",
    "print(st_1)\n",
    "print(st_2)\n",
    "print(st_3)"
   ]
  },
  {
   "cell_type": "code",
   "execution_count": 43,
   "id": "3e76398e-962a-4144-a6fc-39713839c17f",
   "metadata": {},
   "outputs": [
    {
     "name": "stdout",
     "output_type": "stream",
     "text": [
      "35\n",
      "12\n"
     ]
    }
   ],
   "source": [
    "# Boolean\n",
    "#          python consider boolean as a mathematical expression\n",
    "a = True + 34      # True -> 1\n",
    "b = False + 12     # False -> 0\n",
    "print(a)\n",
    "print(b)"
   ]
  },
  {
   "cell_type": "code",
   "execution_count": 44,
   "id": "9a7a8433-1320-45de-8151-2d584669a961",
   "metadata": {},
   "outputs": [
    {
     "name": "stdout",
     "output_type": "stream",
     "text": [
      "43\n"
     ]
    }
   ],
   "source": [
    "# None\n",
    "a = None       # want it in future\n",
    "b = 12\n",
    "a = 43\n",
    "print(a)"
   ]
  },
  {
   "cell_type": "code",
   "execution_count": 45,
   "id": "17983e37-5371-4522-9334-8ab6bed243f2",
   "metadata": {},
   "outputs": [
    {
     "name": "stdout",
     "output_type": "stream",
     "text": [
      "45\n",
      "<class 'int'>\n"
     ]
    }
   ],
   "source": [
    "u = 45\n",
    "x = str(u)\n",
    "print(x)\n",
    "print(type(u))"
   ]
  },
  {
   "cell_type": "markdown",
   "id": "9afdebc8-b1b9-4c50-ada8-7f2941436d49",
   "metadata": {},
   "source": [
    "# Operators"
   ]
  },
  {
   "cell_type": "code",
   "execution_count": 46,
   "id": "7b24a811-fb86-406c-b4b4-78bc2506c3d6",
   "metadata": {},
   "outputs": [
    {
     "name": "stdout",
     "output_type": "stream",
     "text": [
      "10\n",
      "4\n",
      "21\n",
      "2.3333333333333335\n",
      "1\n",
      "2\n",
      "343\n"
     ]
    }
   ],
   "source": [
    "# Arithematic operators ->  +, -, /, *, //, %, **\n",
    "a, b = 7, 3\n",
    "print(a+b)\n",
    "print(a-b)\n",
    "print(a*b)\n",
    "print(a/b)\n",
    "print(a%b)\n",
    "print(a//b)\n",
    "print(a**b)"
   ]
  },
  {
   "cell_type": "code",
   "execution_count": 47,
   "id": "42a8cc59-1b4c-452a-8713-717ddc67a673",
   "metadata": {},
   "outputs": [
    {
     "name": "stdout",
     "output_type": "stream",
     "text": [
      "False\n",
      "True\n",
      "True\n",
      "False\n",
      "False\n",
      "True\n"
     ]
    }
   ],
   "source": [
    "# Relational operators ->  >, <, >=, <=, ==, !=\n",
    "c, d = 4, 9\n",
    "print(c>d)\n",
    "print(c<d)\n",
    "print(c<=d)\n",
    "print(c>=d)\n",
    "print(c==d)\n",
    "print(c!=d)"
   ]
  },
  {
   "cell_type": "code",
   "execution_count": 48,
   "id": "13d2352e-529d-4922-a771-5f122326604d",
   "metadata": {},
   "outputs": [
    {
     "name": "stdout",
     "output_type": "stream",
     "text": [
      "0\n",
      "1\n",
      "0\n",
      "1\n",
      "1\n",
      "0\n",
      "True\n",
      "False\n"
     ]
    }
   ],
   "source": [
    "# Logical operators -> and , or , not\n",
    "print(0 and 1)\n",
    "print(1 and 1)\n",
    "print(0 and 0)\n",
    "print(0 or 1)\n",
    "print(1 or 1)\n",
    "print(0 or 0)\n",
    "print(not 0)\n",
    "print(not 1)"
   ]
  },
  {
   "cell_type": "code",
   "execution_count": 49,
   "id": "0e4dae13-f103-4dba-af40-765dc6813dd7",
   "metadata": {},
   "outputs": [
    {
     "name": "stdout",
     "output_type": "stream",
     "text": [
      "1\n",
      "7\n",
      "6\n",
      "-4\n"
     ]
    }
   ],
   "source": [
    "# Bitwise operators ->  &(and) , |(or) , ^(xor) , ~(not)\n",
    "# (These operators operate on binary values)\n",
    "print(3 & 5)  # (3)->011 & (5)->101 = 001->(1)\n",
    "print(3 | 5)  # (3)->011 | (5)->101 = 111->(7)\n",
    "print(3 ^ 5)  # (3)->011 ^ (5)->101 = 110->(6)       same value = 0, diff value = 1\n",
    "print(~3)     #(3)->011 = (-4)                        0 become 1 , 1 become 0"
   ]
  },
  {
   "cell_type": "code",
   "execution_count": 50,
   "id": "031f3c83-fd94-4d39-bff3-24b14445b748",
   "metadata": {},
   "outputs": [
    {
     "name": "stdout",
     "output_type": "stream",
     "text": [
      "12\n",
      "4\n",
      "32\n",
      "4.0\n",
      "4.0\n",
      "65536.0\n"
     ]
    }
   ],
   "source": [
    "# Assignment operators -> = , += , -=, *= , /= , %= , **=\n",
    "a , b = 4 , 8\n",
    "a += b\n",
    "print(a)\n",
    "a -= b\n",
    "print(a)\n",
    "a *= b\n",
    "print(a)\n",
    "a /= b\n",
    "print(a)\n",
    "a %= b\n",
    "print(a)\n",
    "a **= b\n",
    "print(a)"
   ]
  },
  {
   "cell_type": "code",
   "execution_count": 51,
   "id": "aeb22d28-a930-49c9-ac11-d5fa67b6f799",
   "metadata": {},
   "outputs": [
    {
     "name": "stdout",
     "output_type": "stream",
     "text": [
      "True\n",
      "False\n",
      "False\n",
      "True\n",
      "False\n"
     ]
    }
   ],
   "source": [
    "# Membership operators ->  in , not in        (works on every data type)\n",
    "print('d' in 'delhi')\n",
    "print('f' in 'delhi')\n",
    "print('d' not in 'delhi')\n",
    "print('f' not in 'delhi')\n",
    "print(1 in [2,7,3,9,0])"
   ]
  },
  {
   "cell_type": "code",
   "execution_count": null,
   "id": "44a0b7ee-1484-441e-868b-8a203d8b797e",
   "metadata": {},
   "outputs": [],
   "source": [
    "# Display sum of the entered digit\n",
    "n = int(input('Enter two digit no. : '))\n",
    "f = n%10\n",
    "n //= 10\n",
    "g = n%10\n",
    "n //= 10\n",
    "print(f+g)"
   ]
  }
 ],
 "metadata": {
  "kernelspec": {
   "display_name": "Python 3 (ipykernel)",
   "language": "python",
   "name": "python3"
  },
  "language_info": {
   "codemirror_mode": {
    "name": "ipython",
    "version": 3
   },
   "file_extension": ".py",
   "mimetype": "text/x-python",
   "name": "python",
   "nbconvert_exporter": "python",
   "pygments_lexer": "ipython3",
   "version": "3.13.2"
  }
 },
 "nbformat": 4,
 "nbformat_minor": 5
}
