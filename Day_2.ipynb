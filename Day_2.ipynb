{
 "cells": [
  {
   "cell_type": "markdown",
   "id": "5a689f35-4279-4931-b948-ed27f8133f6e",
   "metadata": {},
   "source": [
    "# Day-2 Of \n",
    "# <b>#100 Days of Machine Learning</b>"
   ]
  },
  {
   "cell_type": "markdown",
   "id": "ecd13a0c-70ed-475e-ac99-996aec08c8bb",
   "metadata": {},
   "source": [
    "---"
   ]
  },
  {
   "cell_type": "markdown",
   "id": "5c3a91f3-f91e-4ec9-bf3b-334223db3deb",
   "metadata": {},
   "source": [
    "# 🧠 What Are Conditional Statements?\n",
    "## Conditional statements are used to execute code only when a certain condition is true. They are a fundamental part of any programming language because they allow your program to make decisions and behave differently based on input or data.\n",
    "\n",
    "In Python, we primarily use:\n",
    "\n",
    "- if\n",
    "- elif (short for \"else if\")\n",
    "- else\n",
    "\n",
    "### These statements evaluate Boolean expressions (conditions that return True or False) and run the appropriate block of code."
   ]
  },
  {
   "cell_type": "markdown",
   "id": "11e7e541-c5e8-4f78-b36c-e63340ed93ac",
   "metadata": {},
   "source": [
    "---"
   ]
  },
  {
   "cell_type": "markdown",
   "id": "3cbbf9df-1788-4e45-b24d-1921f39eee49",
   "metadata": {},
   "source": [
    "## 🔹 if Statement\n",
    "### Executes a block of code if the condition is True."
   ]
  },
  {
   "cell_type": "code",
   "execution_count": 1,
   "id": "fd518103-4c1a-4e09-a9a7-a8034c9f2ef3",
   "metadata": {},
   "outputs": [
    {
     "name": "stdout",
     "output_type": "stream",
     "text": [
      "You are an adult.\n"
     ]
    }
   ],
   "source": [
    "age = 18\n",
    "if age >= 18:\n",
    "    print(\"You are an adult.\")"
   ]
  },
  {
   "cell_type": "markdown",
   "id": "55c6f257-855c-4fb3-b91c-d26e28617ec7",
   "metadata": {},
   "source": [
    "## 🔹 elif (Else If) Statement\n",
    "### Used to check another condition if the previous one was False."
   ]
  },
  {
   "cell_type": "code",
   "execution_count": 2,
   "id": "13da7b02-dec1-4559-ab87-d14ad4410d76",
   "metadata": {},
   "outputs": [
    {
     "name": "stdout",
     "output_type": "stream",
     "text": [
      "Grade B\n"
     ]
    }
   ],
   "source": [
    "marks = 75\n",
    "if marks >= 90:\n",
    "    print(\"Grade A\")\n",
    "elif marks >= 70:\n",
    "    print(\"Grade B\")"
   ]
  },
  {
   "cell_type": "markdown",
   "id": "d8202deb-73a6-4b98-9a38-1088126734bc",
   "metadata": {},
   "source": [
    "## 🔹 else Statement\n",
    "### Executes a block of code if none of the previous conditions are true."
   ]
  },
  {
   "cell_type": "code",
   "execution_count": 3,
   "id": "9a3bc4a0-5801-447f-83ac-a87f09081085",
   "metadata": {},
   "outputs": [
    {
     "name": "stdout",
     "output_type": "stream",
     "text": [
      "Cold day\n"
     ]
    }
   ],
   "source": [
    "temp = 10\n",
    "if temp > 30:\n",
    "    print(\"Hot day\")\n",
    "elif temp > 20:\n",
    "    print(\"Warm day\")\n",
    "else:\n",
    "    print(\"Cold day\")"
   ]
  },
  {
   "cell_type": "markdown",
   "id": "3d211264-8dcf-46a5-8d7c-239bea8c4db6",
   "metadata": {},
   "source": [
    "# Examples"
   ]
  },
  {
   "cell_type": "markdown",
   "id": "d3edba90-c62c-4368-b57c-3c4c56e1282d",
   "metadata": {},
   "source": [
    "## log in page program"
   ]
  },
  {
   "cell_type": "code",
   "execution_count": 4,
   "id": "37ca17cd-2acc-4d52-bec3-847600cfed04",
   "metadata": {},
   "outputs": [
    {
     "name": "stdin",
     "output_type": "stream",
     "text": [
      "Enter email :  uxmaxxatun\n",
      "Enter password :  1234\n"
     ]
    },
    {
     "name": "stdout",
     "output_type": "stream",
     "text": [
      "Welcome\n"
     ]
    }
   ],
   "source": [
    "# log in page program\n",
    "email = (input('Enter email : '))\n",
    "pswd = int(input('Enter password : '))\n",
    "if email == 'uxmaxxatun':\n",
    "    if pswd == 1234:\n",
    "        print('Welcome')\n",
    "    else:\n",
    "        print('Invalid password')\n",
    "        pswd = int(input('Enter password again : '))\n",
    "        if pswd == 1234:\n",
    "            print('Welcome')\n",
    "        else:\n",
    "            print('Invalid password')\n",
    "            print('Wait for 30 minutes')\n",
    "else:\n",
    "    print('Invalid email')"
   ]
  },
  {
   "cell_type": "markdown",
   "id": "cb53dc33-0683-42ed-9ba7-85b99835881e",
   "metadata": {},
   "source": [
    "# Display maximum no. from 3 entered no."
   ]
  },
  {
   "cell_type": "code",
   "execution_count": 5,
   "id": "e4ce0a28-28ab-4c9f-860c-794e5d3f5474",
   "metadata": {},
   "outputs": [
    {
     "name": "stdin",
     "output_type": "stream",
     "text": [
      "Enter 1st no. :  34\n",
      "Enter 2nd no. :  75\n",
      "Enter 3rd no. :  23\n"
     ]
    },
    {
     "name": "stdout",
     "output_type": "stream",
     "text": [
      "75 is greater than 34 and 23\n"
     ]
    }
   ],
   "source": [
    "# Display maximum no. from 3 entered no.\n",
    "n1 = int(input('Enter 1st no. : '))\n",
    "n2 = int(input('Enter 2nd no. : '))\n",
    "n3 = int(input('Enter 3rd no. : '))\n",
    "if n1 > n2 and n1 > n3:\n",
    "    print(f'{n1} is greater than {n2} and {n3}')\n",
    "elif n2 > n3:\n",
    "    print(f'{n2} is greater than {n1} and {n3}')\n",
    "else:\n",
    "    print(f'{n3} is greater than {n1} and {n2}')"
   ]
  },
  {
   "cell_type": "markdown",
   "id": "fbb72646-c69f-4902-8db4-a6f97d7d4704",
   "metadata": {},
   "source": [
    "# Menue driven calculator "
   ]
  },
  {
   "cell_type": "code",
   "execution_count": 6,
   "id": "7897fdb5-2e4f-4b7e-a41b-4e49c6a9e085",
   "metadata": {},
   "outputs": [
    {
     "name": "stdin",
     "output_type": "stream",
     "text": [
      "Enter 1st no. :  34\n",
      "Enter operator :  -\n",
      "Enter 2nd no. :  236\n"
     ]
    },
    {
     "name": "stdout",
     "output_type": "stream",
     "text": [
      "34 - 236 = -202\n"
     ]
    }
   ],
   "source": [
    "# Menue driven calculator \n",
    "m1 = int(input('Enter 1st no. : '))\n",
    "op = input('Enter operator : ')\n",
    "m2 = int(input('Enter 2nd no. : '))\n",
    "if op == '+':\n",
    "    print(f'{m1} + {m2} = {m1+m2}')\n",
    "elif op == '-':\n",
    "    print(f'{m1} - {m2} = {m1-m2}')\n",
    "elif op == '*':\n",
    "    print(f'{m1} * {m2} = {m1*m2}')\n",
    "elif op == '/':\n",
    "    print(f'{m1} / {m2} = {m1/m2}')\n",
    "else:\n",
    "    print('Invalid operator')"
   ]
  },
  {
   "cell_type": "markdown",
   "id": "5e95af34-7905-4565-89d3-14b7e613ff1d",
   "metadata": {},
   "source": [
    "# 🔁 What Are Loops in Python?\n",
    "## Loops are used to repeat a block of code multiple times—this saves time, makes your code cleaner, and is essential for tasks like iterating over datasets, repeating model evaluations, etc.\n",
    "\n",
    "### Python has two primary types of loops:\n",
    "- for loop\n",
    "- while loop\n",
    "#### Also, there are keywords that control loop behavior:\n",
    "- break\n",
    "- continue\n",
    "- pass"
   ]
  },
  {
   "cell_type": "markdown",
   "id": "031abbd7-83e0-43f3-b638-73c520b7780d",
   "metadata": {},
   "source": [
    "---"
   ]
  },
  {
   "cell_type": "markdown",
   "id": "65e20642-2b8f-4ad3-b094-1136eddd2f0b",
   "metadata": {},
   "source": [
    "## 🔹 for Loop\n",
    "### A for loop is used to iterate over a sequence like a list, tuple, string, or range of numbers."
   ]
  },
  {
   "cell_type": "code",
   "execution_count": 7,
   "id": "183b478d-cf5f-428d-aeb1-2f499432a3d7",
   "metadata": {},
   "outputs": [
    {
     "name": "stdout",
     "output_type": "stream",
     "text": [
      "apple\n",
      "banana\n",
      "cherry\n"
     ]
    }
   ],
   "source": [
    "fruits = [\"apple\", \"banana\", \"cherry\"]\n",
    "for fruit in fruits:\n",
    "    print(fruit)"
   ]
  },
  {
   "cell_type": "markdown",
   "id": "357c6195-efd6-41a6-be5a-d40edc75fde5",
   "metadata": {},
   "source": [
    "## 🔹 while Loop\n",
    "### A while loop keeps running as long as a condition is true."
   ]
  },
  {
   "cell_type": "code",
   "execution_count": 8,
   "id": "beb4ff34-67e7-4273-a76c-42e43c06fd35",
   "metadata": {},
   "outputs": [
    {
     "name": "stdout",
     "output_type": "stream",
     "text": [
      "Count is: 0\n",
      "Count is: 1\n",
      "Count is: 2\n",
      "Count is: 3\n",
      "Count is: 4\n"
     ]
    }
   ],
   "source": [
    "count = 0\n",
    "while count < 5:\n",
    "    print(\"Count is:\", count)\n",
    "    count += 1"
   ]
  },
  {
   "cell_type": "markdown",
   "id": "5215cca1-e16f-4adb-b723-d81bd3637cea",
   "metadata": {},
   "source": [
    "## 🔸 Loop Control Statements\n",
    "## ✅ break\n",
    "### Used to exit the loop immediately, even if the condition is still true."
   ]
  },
  {
   "cell_type": "code",
   "execution_count": 9,
   "id": "07380f92-4f3f-4ceb-9b49-425a42eb9ae4",
   "metadata": {},
   "outputs": [
    {
     "name": "stdout",
     "output_type": "stream",
     "text": [
      "0\n",
      "1\n",
      "2\n",
      "3\n",
      "4\n"
     ]
    }
   ],
   "source": [
    "for i in range(10):\n",
    "    if i == 5:\n",
    "        break\n",
    "    print(i)"
   ]
  },
  {
   "cell_type": "markdown",
   "id": "9e77f1d4-2085-414a-b9f5-bf22894f67f2",
   "metadata": {},
   "source": [
    "## ✅ continue\n",
    "### Skips the current iteration and moves to the next one."
   ]
  },
  {
   "cell_type": "code",
   "execution_count": 10,
   "id": "a6e80ded-8228-4c61-b5e4-7b88cb15b9d0",
   "metadata": {},
   "outputs": [
    {
     "name": "stdout",
     "output_type": "stream",
     "text": [
      "0\n",
      "1\n",
      "3\n",
      "4\n"
     ]
    }
   ],
   "source": [
    "for i in range(5):\n",
    "    if i == 2:\n",
    "        continue\n",
    "    print(i)"
   ]
  },
  {
   "cell_type": "markdown",
   "id": "e2899bd8-d021-432b-83ce-3e3f0d1993e5",
   "metadata": {},
   "source": [
    "## ✅ pass\n",
    "### Does nothing—used as a placeholder."
   ]
  },
  {
   "cell_type": "code",
   "execution_count": 11,
   "id": "9223e862-8e4e-4ea8-a161-4f021459f818",
   "metadata": {},
   "outputs": [],
   "source": [
    "for i in range(3):\n",
    "    pass  # To be implemented later"
   ]
  },
  {
   "cell_type": "markdown",
   "id": "ccb3be04-c17d-4e5d-8da0-3c7bef258401",
   "metadata": {},
   "source": [
    "# Examples"
   ]
  },
  {
   "cell_type": "markdown",
   "id": "98f85160-9e98-4138-ae7f-eadf3059326a",
   "metadata": {},
   "source": [
    "## Print table"
   ]
  },
  {
   "cell_type": "code",
   "execution_count": 12,
   "id": "ccbc085c-c736-498d-8819-0c6c09803152",
   "metadata": {},
   "outputs": [
    {
     "name": "stdin",
     "output_type": "stream",
     "text": [
      "Enter no. :  5\n"
     ]
    },
    {
     "name": "stdout",
     "output_type": "stream",
     "text": [
      "5 * 1 = 5\n",
      "5 * 2 = 10\n",
      "5 * 3 = 15\n",
      "5 * 4 = 20\n",
      "5 * 5 = 25\n",
      "5 * 6 = 30\n",
      "5 * 7 = 35\n",
      "5 * 8 = 40\n",
      "5 * 9 = 45\n",
      "5 * 10 = 50\n"
     ]
    }
   ],
   "source": [
    "# Print table\n",
    "mn = int(input('Enter no. : '))\n",
    "i = 1\n",
    "while i <= 10:\n",
    "    print(f'{mn} * {i} = {mn*i}')\n",
    "    i += 1"
   ]
  },
  {
   "cell_type": "markdown",
   "id": "175966cb-ba69-44f1-99b9-91af7f5a0265",
   "metadata": {},
   "source": [
    "## Number gussing game"
   ]
  },
  {
   "cell_type": "code",
   "execution_count": 13,
   "id": "805d4774-380e-472e-919e-2cdfae068da9",
   "metadata": {},
   "outputs": [
    {
     "name": "stdin",
     "output_type": "stream",
     "text": [
      "Enter no. :  45\n"
     ]
    },
    {
     "name": "stdout",
     "output_type": "stream",
     "text": [
      "guss below no.\n"
     ]
    },
    {
     "name": "stdin",
     "output_type": "stream",
     "text": [
      "Enter no. :  32\n"
     ]
    },
    {
     "name": "stdout",
     "output_type": "stream",
     "text": [
      "guss above no.\n"
     ]
    },
    {
     "name": "stdin",
     "output_type": "stream",
     "text": [
      "Enter no. :  29\n"
     ]
    },
    {
     "name": "stdout",
     "output_type": "stream",
     "text": [
      "guss above no.\n"
     ]
    },
    {
     "name": "stdin",
     "output_type": "stream",
     "text": [
      "Enter no. :  31\n"
     ]
    },
    {
     "name": "stdout",
     "output_type": "stream",
     "text": [
      "guss above no.\n"
     ]
    },
    {
     "name": "stdin",
     "output_type": "stream",
     "text": [
      "Enter no. :  30\n"
     ]
    },
    {
     "name": "stdout",
     "output_type": "stream",
     "text": [
      "guss above no.\n"
     ]
    },
    {
     "name": "stdin",
     "output_type": "stream",
     "text": [
      "Enter no. :  36\n"
     ]
    },
    {
     "name": "stdout",
     "output_type": "stream",
     "text": [
      "guss above no.\n"
     ]
    },
    {
     "name": "stdin",
     "output_type": "stream",
     "text": [
      "Enter no. :  39\n"
     ]
    },
    {
     "name": "stdout",
     "output_type": "stream",
     "text": [
      "guss above no.\n"
     ]
    },
    {
     "name": "stdin",
     "output_type": "stream",
     "text": [
      "Enter no. :  40\n"
     ]
    },
    {
     "name": "stdout",
     "output_type": "stream",
     "text": [
      "right guss\n",
      "You took 8 chances to guss right number\n"
     ]
    }
   ],
   "source": [
    "# Number gussing game\n",
    "import random\n",
    "jackpot = random.randint(1,100)\n",
    "guss  = int(input(('Enter no. : ')))\n",
    "c = 1\n",
    "while guss != jackpot:\n",
    "    if guss > jackpot:\n",
    "        print('guss below no.')\n",
    "    elif guss < jackpot:\n",
    "        print('guss above no.')\n",
    "    guss  = int(input(('Enter no. : ')))\n",
    "    c += 1\n",
    "else:\n",
    "    print('right guss')\n",
    "print(f'You took {c} chances to guss right number')"
   ]
  },
  {
   "cell_type": "markdown",
   "id": "4a4dd3a0-66bf-4290-a9c0-c357b4887cfd",
   "metadata": {},
   "source": [
    "## Print pattern(1)"
   ]
  },
  {
   "cell_type": "code",
   "execution_count": 14,
   "id": "b753d769-9cfd-4749-93f8-8badf2cf148e",
   "metadata": {},
   "outputs": [
    {
     "name": "stdin",
     "output_type": "stream",
     "text": [
      "Enter no.:  6\n"
     ]
    },
    {
     "name": "stdout",
     "output_type": "stream",
     "text": [
      "* \n",
      "* * \n",
      "* * * \n",
      "* * * * \n",
      "* * * * * \n",
      "* * * * * * \n",
      "\n"
     ]
    }
   ],
   "source": [
    "# Print pattern(1)\n",
    "nmn = int(input('Enter no.: '))\n",
    "for i in range(1,nmn+1):\n",
    "    print(i*'* ')\n",
    "print()"
   ]
  },
  {
   "cell_type": "markdown",
   "id": "4b5256fa-ccca-4cbf-bd4d-b4c050f4f225",
   "metadata": {},
   "source": [
    "## Print pattern(2)"
   ]
  },
  {
   "cell_type": "code",
   "execution_count": 15,
   "id": "87a55c8e-4800-44ab-a62b-ae5c3cb924f8",
   "metadata": {},
   "outputs": [
    {
     "name": "stdin",
     "output_type": "stream",
     "text": [
      "Enter no.:  6\n"
     ]
    },
    {
     "name": "stdout",
     "output_type": "stream",
     "text": [
      "          1 \n",
      "        1 2 1 \n",
      "      1 2 3 2 1 \n",
      "    1 2 3 4 3 2 1 \n",
      "  1 2 3 4 5 4 3 2 1 \n",
      "1 2 3 4 5 6 5 4 3 2 1 \n"
     ]
    }
   ],
   "source": [
    "# Print pattern(2)\n",
    "n0 = int(input('Enter no.: '))\n",
    "for i in range(1,n0+1):\n",
    "    for l in range(n0,i,-1):\n",
    "        print(' ',end=' ')\n",
    "    for j in range(1,i+1):\n",
    "        print(j,end=' ')\n",
    "    for k in range(i-1,0,-1):\n",
    "        print(k,end=' ')\n",
    "    print()"
   ]
  },
  {
   "cell_type": "code",
   "execution_count": null,
   "id": "93610772-25c3-46e3-a2aa-22e8daf059f4",
   "metadata": {},
   "outputs": [],
   "source": []
  }
 ],
 "metadata": {
  "kernelspec": {
   "display_name": "Python 3 (ipykernel)",
   "language": "python",
   "name": "python3"
  },
  "language_info": {
   "codemirror_mode": {
    "name": "ipython",
    "version": 3
   },
   "file_extension": ".py",
   "mimetype": "text/x-python",
   "name": "python",
   "nbconvert_exporter": "python",
   "pygments_lexer": "ipython3",
   "version": "3.13.2"
  }
 },
 "nbformat": 4,
 "nbformat_minor": 5
}
