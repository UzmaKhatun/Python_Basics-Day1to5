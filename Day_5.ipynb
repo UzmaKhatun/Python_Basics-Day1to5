{
 "cells": [
  {
   "cell_type": "markdown",
   "id": "013b7301-9b65-456a-a156-bcc0651cbf1c",
   "metadata": {},
   "source": [
    "# Day-5 Of \n",
    "# <b>#100 Days of Machine Learning</b>\n",
    "---"
   ]
  },
  {
   "cell_type": "markdown",
   "id": "d2eab6b7-2a4c-42ac-9eba-f7f4119dc990",
   "metadata": {},
   "source": [
    "# 📂 File Handling :\n",
    "## File handling allows you to create, read, write, update, and delete files using Python. It’s essential when you want to work with data stored in text files, CSVs, logs, or any other file-based system."
   ]
  },
  {
   "cell_type": "markdown",
   "id": "b4d79735-a07e-4746-acd5-58ff21872eab",
   "metadata": {},
   "source": [
    "## Some Theory\n",
    "#### Types of data used for I/O\n",
    "1. Text - '12345' as a sequence of unicode chars\n",
    "2. Binary - 12345 as a sequence of bytes of its binary equivalent\n",
    "#### Hence there are 2 file types to deal with\n",
    "1. Text file - All program files are text files\n",
    "2. Binary file - Images, musics, video, exe files"
   ]
  },
  {
   "cell_type": "markdown",
   "id": "4b7d4388-57fe-41aa-a8ce-31979e6bd00a",
   "metadata": {},
   "source": [
    "#### How Files I/O is done in most programming languages\n",
    "1. Open a file\n",
    "2. Read/Write data\n",
    "3. Close the file"
   ]
  },
  {
   "cell_type": "markdown",
   "id": "87862e4d-ea81-4cb5-9591-bab71f2da959",
   "metadata": {},
   "source": [
    "### Writing to a file"
   ]
  },
  {
   "cell_type": "markdown",
   "id": "a7ee1291-1e9f-49a0-8cb5-fa4be341f85f",
   "metadata": {},
   "source": [
    "case 1 - if the file is not preset/exist\n"
   ]
  },
  {
   "cell_type": "code",
   "execution_count": 1,
   "id": "0ba46e6e-9120-461f-badb-c66443e24708",
   "metadata": {},
   "outputs": [],
   "source": [
    "f = open('handling_file.txt',mode='w')   # w -> write mode\n",
    "f.write('''Hey!!!\n",
    "How are you?''')\n",
    "f.close()\n",
    "# f.write('Where are you?')  # raise an error"
   ]
  },
  {
   "cell_type": "markdown",
   "id": "570748db-4d57-4fc4-82cf-684ff66e863b",
   "metadata": {},
   "source": [
    "case 2 - if the file is already present/exist"
   ]
  },
  {
   "cell_type": "code",
   "execution_count": 2,
   "id": "6cecf7ce-6a0e-4ec5-bab3-03ce374f7993",
   "metadata": {},
   "outputs": [],
   "source": [
    "fi = open('handling_file.txt',mode='w')\n",
    "fi.write('''Python is very popular language for AI/ML''')  # replace the materail\n",
    "fi.close()"
   ]
  },
  {
   "cell_type": "markdown",
   "id": "1a8af07f-0454-499a-9168-722aa0b5209f",
   "metadata": {},
   "source": [
    "write mode clear the txt then replace with new text"
   ]
  },
  {
   "cell_type": "markdown",
   "id": "02743373-b7fe-4084-ba7d-3e7f88d54674",
   "metadata": {},
   "source": [
    "#### How exactly open() works?\n",
    "python pick the file from the drive then put it in the RAM and do the operation"
   ]
  },
  {
   "cell_type": "markdown",
   "id": "8f5f0957-e392-4f50-8456-1401c06f07f8",
   "metadata": {},
   "source": [
    "#### Add text in the existing file"
   ]
  },
  {
   "cell_type": "code",
   "execution_count": 3,
   "id": "314dc5b9-2acf-43f5-ba4c-89b6607ea44d",
   "metadata": {},
   "outputs": [],
   "source": [
    "fil = open('handling_file.txt',mode='a')  # a -> append mode\n",
    "fil.write('''\\nPython is easy to use and have friendly environment''')\n",
    "fil.close()"
   ]
  },
  {
   "cell_type": "code",
   "execution_count": 4,
   "id": "283846d4-2a1e-4887-86e0-593823679f8c",
   "metadata": {},
   "outputs": [],
   "source": [
    "# write lines\n",
    "l = [\"\\nlet's see\\n\",\"I am appending new line\\n\"]\n",
    "file = open('handling_file.txt',mode='a')\n",
    "file.writelines(l)      # append multiple lines\n",
    "file.close()"
   ]
  },
  {
   "cell_type": "markdown",
   "id": "29779587-880f-436a-8954-f8242731a12c",
   "metadata": {},
   "source": [
    "### Reading from files"
   ]
  },
  {
   "cell_type": "code",
   "execution_count": 5,
   "id": "339800a5-59e2-4a28-ac65-b2af5204c4f5",
   "metadata": {},
   "outputs": [
    {
     "name": "stdout",
     "output_type": "stream",
     "text": [
      "Python is very popular language for AI/ML\n",
      "Python is easy to use and have friendly environment\n",
      "let's see\n",
      "I am appending new line\n",
      "\n"
     ]
    }
   ],
   "source": [
    "file_ = open('handling_file.txt',mode='r')   # r -> read mode\n",
    "s = file_.read()\n",
    "print(s)\n",
    "file_.close()"
   ]
  },
  {
   "cell_type": "code",
   "execution_count": 6,
   "id": "04cae637-075c-4808-8da4-6281f7dd393c",
   "metadata": {},
   "outputs": [
    {
     "name": "stdout",
     "output_type": "stream",
     "text": [
      "Python is very popul\n"
     ]
    },
    {
     "data": {
      "text/plain": [
       "<function TextIOWrapper.close()>"
      ]
     },
     "execution_count": 6,
     "metadata": {},
     "output_type": "execute_result"
    }
   ],
   "source": [
    "# reading upto a chars\n",
    "file = open('handling_file.txt',mode='r')\n",
    "st = file.read(20)\n",
    "print(st)\n",
    "file.close"
   ]
  },
  {
   "cell_type": "code",
   "execution_count": 7,
   "id": "91620bfd-6bfc-4444-97d5-5b705b704f33",
   "metadata": {},
   "outputs": [
    {
     "name": "stdout",
     "output_type": "stream",
     "text": [
      "Python is very popular language for AI/ML\n",
      "Python is easy to use and have friendly environment\n",
      "\n"
     ]
    }
   ],
   "source": [
    "# readlines() -> to read line by line\n",
    "fi = open('handling_file.txt',mode='r')\n",
    "s = fi.readline()\n",
    "ss = fi.readline()\n",
    "print(s,end=\"\")\n",
    "print(ss)\n",
    "fi.close()"
   ]
  },
  {
   "cell_type": "markdown",
   "id": "4b3a6d9a-218d-4aa9-a320-316521a7d6da",
   "metadata": {},
   "source": [
    "reade -> when file is small <br>\n",
    "readeline -> when file is big"
   ]
  },
  {
   "cell_type": "code",
   "execution_count": 8,
   "id": "ebfd34da-79e8-4694-bf79-48e5776814b4",
   "metadata": {},
   "outputs": [
    {
     "name": "stdout",
     "output_type": "stream",
     "text": [
      "Python is very popular language for AI/ML\n",
      "Python is easy to use and have friendly environment\n",
      "let's see\n",
      "I am appending new line\n"
     ]
    }
   ],
   "source": [
    "# reading entire using readline\n",
    "f = open('handling_file.txt',mode='r')\n",
    "while True:\n",
    "    data = f.readline()\n",
    "    if data == \"\":\n",
    "        break\n",
    "    else:\n",
    "        print(data,end=\"\")"
   ]
  },
  {
   "cell_type": "markdown",
   "id": "05d4404e-4b24-4951-9caa-fa573787ed46",
   "metadata": {},
   "source": [
    "#### close() \n",
    "1. free up memory\n",
    "2. secuarity"
   ]
  },
  {
   "cell_type": "markdown",
   "id": "ac5e0ccd-cb72-49c3-bcc5-b2024233c6e0",
   "metadata": {},
   "source": [
    "## Using Context Manager (With)\n",
    "1. It's a good idea to close a file after usage as it will free up the resources\n",
    "2. if we dont close it, garbage collector would close it\n",
    "3. with keyword closes the file as soon as the usage is over"
   ]
  },
  {
   "cell_type": "code",
   "execution_count": 9,
   "id": "8ba7f366-3762-4fa3-8d23-44a544bfb4cc",
   "metadata": {},
   "outputs": [],
   "source": [
    "# with -> use write\n",
    "with open('handling_file.txt','a') as f:\n",
    "    f.write('Use of \"with\" in file handling')"
   ]
  },
  {
   "cell_type": "code",
   "execution_count": 10,
   "id": "f7eef60b-1f95-4c56-85d1-8fb01557e015",
   "metadata": {},
   "outputs": [
    {
     "name": "stdout",
     "output_type": "stream",
     "text": [
      "Python is very popular language for AI/ML\n",
      "Python is easy to use and have friendly environment\n",
      "let's see\n",
      "I am appending new line\n",
      "Use of \"with\" in file handling\n"
     ]
    }
   ],
   "source": [
    "# with -> use read\n",
    "with open('handling_file.txt','r') as f:\n",
    "    print(f.read())"
   ]
  },
  {
   "cell_type": "code",
   "execution_count": 11,
   "id": "ea39e670-c477-4c38-af73-b90097197146",
   "metadata": {},
   "outputs": [
    {
     "name": "stdout",
     "output_type": "stream",
     "text": [
      "Python is very popul\n",
      "ar language for AI/M\n"
     ]
    }
   ],
   "source": [
    "# moving within a file -> 10 char then 10 char\n",
    "with open('handling_file.txt','r') as f:\n",
    "    print(f.read(20))\n",
    "    print(f.read(20))\n",
    "# when there is a big file read it as a chunk"
   ]
  },
  {
   "cell_type": "code",
   "execution_count": 12,
   "id": "cff32b03-7a2d-4b2e-9881-c0945646d8ba",
   "metadata": {},
   "outputs": [],
   "source": [
    "# benefit? -> to load a big file in memory\n",
    "big_l = ['hey uxma ' for i in range(1000)]\n",
    "with open('big_file.txt','w') as f:\n",
    "    f.writelines(big_l)"
   ]
  },
  {
   "cell_type": "code",
   "execution_count": 13,
   "id": "828d807f-f526-43b9-930c-b8f11753a671",
   "metadata": {},
   "outputs": [
    {
     "name": "stdout",
     "output_type": "stream",
     "text": [
      "ey uxma he uxma hey u a hey uxma ey uxma he uxma hey u a hey uxma ey uxma he uxma hey u a hey uxma ey uxma he uxma hey u a hey uxma ey uxma he uxma hey u a hey uxma ey uxma he uxma hey u a hey uxma ey uxma he uxma hey u a hey uxma ey uxma he uxma hey u a hey uxma ey uxma he uxma hey u a hey uxma ey uxma he uxma hey u a hey uxma ey uxma he uxma hey u a hey uxma ey uxma he uxma hey u a hey uxma ey uxma he uxma hey u a hey uxma ey uxma he uxma hey u a hey uxma ey uxma he uxma hey u a hey uxma ey uxma he uxma hey u a hey uxma ey uxma he uxma hey u a hey uxma ey uxma he uxma hey u a hey uxma ey uxma he uxma hey u a hey uxma ey uxma he uxma hey u a hey uxma ey uxma he uxma hey u a hey uxma ey uxma he uxma hey u a hey uxma ey uxma he uxma hey u a hey uxma ey uxma he uxma hey u a hey uxma ey uxma he uxma hey u a hey uxma ey uxma he uxma hey u a hey uxma ey uxma he uxma hey u a hey uxma ey uxma he uxma hey u a hey uxma ey uxma he uxma hey u a hey uxma ey uxma he uxma hey u a hey uxma ey uxma he uxma hey u a hey uxma ey uxma he uxma hey u a hey uxma ey uxma he uxma hey u a hey uxma ey uxma he uxma hey u a hey uxma ey uxma he uxma hey u a hey uxma ey uxma he uxma hey u a hey uxma ey uxma he uxma hey u a hey uxma ey uxma he uxma hey u a hey uxma ey uxma he uxma hey u a hey uxma ey uxma he uxma hey u a hey uxma ey uxma he uxma hey u a hey uxma ey uxma he uxma hey u a hey uxma ey uxma he uxma hey u a hey uxma ey uxma he uxma hey u a hey uxma ey uxma he uxma hey u a hey uxma ey uxma he uxma hey u a hey uxma ey uxma he uxma hey u a hey uxma ey uxma he uxma hey u a hey uxma ey uxma he uxma hey u a hey uxma ey uxma he uxma hey u a hey uxma ey uxma he uxma hey u a hey uxma ey uxma he uxma hey u a hey uxma ey uxma he uxma hey u a hey uxma ey uxma he uxma hey u a hey uxma ey uxma he uxma hey u a hey uxma ey uxma he uxma hey u a hey uxma ey uxma he uxma hey u a hey uxma ey uxma he uxma hey u a hey uxma ey uxma he uxma hey u a hey uxma ey uxma he uxma hey u a hey uxma ey uxma he uxma hey u a hey uxma ey uxma he uxma hey u a hey uxma ey uxma he uxma hey u a hey uxma ey uxma he uxma hey u a hey uxma ey uxma he uxma hey u a hey uxma ey uxma he uxma hey u a hey uxma ey uxma he uxma hey u a hey uxma ey uxma he uxma hey u a hey uxma ey uxma he uxma hey u a hey uxma ey uxma he uxma hey u a hey uxma ey uxma he uxma hey u a hey uxma ey uxma he uxma hey u a hey uxma ey uxma he uxma hey u a hey uxma ey uxma he uxma hey u a hey uxma ey uxma he uxma hey u a hey uxma ey uxma he uxma hey u a hey uxma ey uxma he uxma hey u a hey uxma ey uxma he uxma hey u a hey uxma ey uxma he uxma hey u a hey uxma ey uxma he uxma hey u a hey uxma ey uxma he uxma hey u a hey uxma ey uxma he uxma hey u a hey uxma ey uxma he uxma hey u a hey uxma ey uxma he uxma hey u a hey uxma ey uxma he uxma hey u a hey uxma ey uxma he uxma hey u a hey uxma ey uxma he uxma hey u a hey uxma ey uxma he uxma hey u a hey uxma ey uxma he uxma hey u a hey uxma ey uxma he uxma hey u a hey uxma ey uxma he uxma hey u a hey uxma ey uxma he uxma hey u a hey uxma ey uxma he uxma hey u a hey uxma ey uxma he uxma hey u a hey uxma ey uxma he uxma hey u a hey uxma ey uxma he uxma hey u a hey uxma ey uxma he uxma hey u a hey uxma ey uxma he uxma hey u a hey uxma ey uxma he uxma hey u a hey uxma ey uxma he uxma hey u a hey uxma "
     ]
    }
   ],
   "source": [
    "with open('big_file.txt') as f:\n",
    "    chunk_size = 10\n",
    "    while len(f.read(chunk_size)) > 0:\n",
    "        print(f.read(chunk_size),end=' ')\n",
    "        f.read(chunk_size)"
   ]
  },
  {
   "cell_type": "markdown",
   "id": "65fb8e41-9b2c-4c1a-8e1c-3936ac36af0f",
   "metadata": {},
   "source": [
    "### seek() and tell()"
   ]
  },
  {
   "cell_type": "code",
   "execution_count": 14,
   "id": "02343420-8ef6-41d3-8adc-f4d506406d3c",
   "metadata": {},
   "outputs": [
    {
     "name": "stdout",
     "output_type": "stream",
     "text": [
      "Python is \n",
      "10\n",
      "language f\n"
     ]
    }
   ],
   "source": [
    "with open('handling_file.txt','r') as file:\n",
    "    print(file.read(10))      # 10 char read\n",
    "    print(file.tell())        # curser position\n",
    "    file.seek(23)             # customize curser position\n",
    "    print(file.read(10))      # read 10 char where curser is"
   ]
  },
  {
   "cell_type": "code",
   "execution_count": 15,
   "id": "a399b4f8-1f9b-4f13-9513-ade64678dd27",
   "metadata": {},
   "outputs": [
    {
     "name": "stdout",
     "output_type": "stream",
     "text": [
      "Python is \n",
      "d have f\n"
     ]
    }
   ],
   "source": [
    "with open('handling_file.txt','r') as file:\n",
    "    print(file.read(10))\n",
    "    file.seek(67)\n",
    "    print(file.read(8))"
   ]
  },
  {
   "cell_type": "code",
   "execution_count": 16,
   "id": "4416defc-c3ba-407d-be40-13400b46db0f",
   "metadata": {},
   "outputs": [],
   "source": [
    "# seek with read mode\n",
    "with open('handling_file.txt','a') as file:\n",
    "    file.write('\\nUse of seek()')\n",
    "    file.seek(0)\n",
    "    file.write('p')"
   ]
  },
  {
   "cell_type": "markdown",
   "id": "73bb7bea-1ce3-441e-a863-624d8cd55801",
   "metadata": {},
   "source": [
    "### Problems with working in text mode\n",
    "1. can't work with binary files like images\n",
    "2. not good for other data types like int/float/list/tuples"
   ]
  },
  {
   "cell_type": "code",
   "execution_count": 17,
   "id": "0c95081c-8561-4128-8f29-9c9b598e7ea7",
   "metadata": {},
   "outputs": [],
   "source": [
    "# # let's try to read image\n",
    "# with open('Sales of baseball.png','r') as file:\n",
    "#     file.read()         "
   ]
  },
  {
   "cell_type": "markdown",
   "id": "ac6a8929-b253-4267-bc8b-c00f5dff7d34",
   "metadata": {},
   "source": [
    "This raise an error bcz txt file is unicode charactes but images are in the form of bytes or binary, so error would be UniCodeError"
   ]
  },
  {
   "cell_type": "markdown",
   "id": "cd0d7f8d-c708-44be-b228-eea2cc0bf265",
   "metadata": {},
   "source": [
    "#### working with binary file"
   ]
  },
  {
   "cell_type": "code",
   "execution_count": 18,
   "id": "224eb8ec-ddfb-4216-aac4-26670171284e",
   "metadata": {},
   "outputs": [],
   "source": [
    "with open('Sales of baseball.png','rb') as file:     # rb -> read binary\n",
    "    with open('baseball.png','wb') as f:             # wb -> write binary\n",
    "        f.write(file.read())                         # read write at the same time"
   ]
  },
  {
   "cell_type": "markdown",
   "id": "2a827d6e-5ad7-44e5-af28-1c96f28782d3",
   "metadata": {},
   "source": [
    "#### working with other data type"
   ]
  },
  {
   "cell_type": "code",
   "execution_count": 19,
   "id": "2d37503f-22da-4a39-8c99-4548ae0db187",
   "metadata": {},
   "outputs": [],
   "source": [
    "# # write() argument must be str, not int or other data type\n",
    "# # this raise an error \n",
    "# with open('handling_file.txt','a') as file:\n",
    "#     file.write(2)    "
   ]
  },
  {
   "cell_type": "code",
   "execution_count": 20,
   "id": "3fd60b3a-dc8e-445f-bcf9-0ff57e32a7a7",
   "metadata": {},
   "outputs": [],
   "source": [
    "with open('handling_file.txt','a') as file:\n",
    "    file.write('\\nDOB -> 20/04-2025\\n')"
   ]
  },
  {
   "cell_type": "code",
   "execution_count": 21,
   "id": "4ef92d6a-184b-47c8-950c-5d15f5f9e9b2",
   "metadata": {},
   "outputs": [],
   "source": [
    "# more complex data \n",
    "dic = {'name':'sidra','age':28,'gender':'female'}\n",
    "with open('handling_file.txt','a') as file:\n",
    "    file.write(str(dic))"
   ]
  },
  {
   "cell_type": "code",
   "execution_count": 22,
   "id": "4ada22f8-ea95-40ca-a922-544607f156c4",
   "metadata": {},
   "outputs": [
    {
     "name": "stdout",
     "output_type": "stream",
     "text": [
      "Python is very popular language for AI/ML\n",
      "Python is easy to use and have friendly environment\n",
      "let's see\n",
      "I am appending new line\n",
      "Use of \"with\" in file handling\n",
      "Use of seek()p\n",
      "DOB -> 02/05-2003\n",
      "{'name': 'uzma', 'age': 21, 'gender': 'female'}\n",
      "<class 'str'>\n"
     ]
    }
   ],
   "source": [
    "with open('handling_file.txt','r') as file:\n",
    "    print(file.read())\n",
    "    print(type(file.read()))"
   ]
  },
  {
   "cell_type": "markdown",
   "id": "f3b42b5d-08e9-4df8-90dd-6358cbfbbda7",
   "metadata": {},
   "source": [
    "### What is JSON?\n",
    "<b>JSON</b> stands for Java Script On Notation, it is a kind of universal data format understood by all programming languages"
   ]
  },
  {
   "cell_type": "markdown",
   "id": "7f3ea6b7-68cd-4b1a-8132-856f8e349016",
   "metadata": {},
   "source": [
    "### Serialization and Deserialization\n",
    "1. <b>Serialization</b> - process of converting python data types to JSON format\n",
    "2. <b>Deserialization</b> - process of converting JSON to python data types"
   ]
  },
  {
   "cell_type": "code",
   "execution_count": 23,
   "id": "e343d982-cc9d-49e3-a3e8-a074b6ba3322",
   "metadata": {},
   "outputs": [],
   "source": [
    "# serialization \n",
    "# for wrtite -> .dump\n",
    "import json\n",
    "dic = {'name':'uzma','age':21,'gender':'female'}\n",
    "with open('seria.json','w') as file:\n",
    "    json.dump(dic,file)"
   ]
  },
  {
   "cell_type": "code",
   "execution_count": 28,
   "id": "ff1022f9-460b-400d-a3ac-b911918291cb",
   "metadata": {},
   "outputs": [
    {
     "name": "stdout",
     "output_type": "stream",
     "text": [
      "{'name': 'uzma', 'age': 21, 'gender': 'female'}\n",
      "<class 'dict'>\n"
     ]
    }
   ],
   "source": [
    "# deserialization\n",
    "# for read -> .load\n",
    "import json\n",
    "with open('seria.json','r') as file:\n",
    "    data = json.load(file)\n",
    "    print(data)\n",
    "    print(type(data))"
   ]
  },
  {
   "cell_type": "code",
   "execution_count": 30,
   "id": "cfdeee37-9869-43eb-b675-29a1912b24d2",
   "metadata": {},
   "outputs": [],
   "source": [
    "# serialization and deserialization tuple\n",
    "import json\n",
    "t = (3,4,5,6,8,9)\n",
    "with open('seria.json','w') as file:\n",
    "    json.dump(t,file)   # it store tuple like a list"
   ]
  },
  {
   "cell_type": "code",
   "execution_count": 34,
   "id": "97703935-6308-495f-81ef-f9f6a08b695c",
   "metadata": {},
   "outputs": [],
   "source": [
    "# serialization and deserialization a nested dict\n",
    "import json\n",
    "d = [\n",
    "    {\n",
    "        'name':'uzma',\n",
    "        'marks':[91,87,92,71,83],\n",
    "        'branch':'pcm'\n",
    "    },\n",
    "    {\n",
    "        'name':'azeema',\n",
    "        'marks':[93,85,92,93,97],\n",
    "        'branch':'pcm'\n",
    "    }\n",
    "]\n",
    "with open('seria.json','w') as file:\n",
    "    json.dump(d,file)"
   ]
  },
  {
   "cell_type": "code",
   "execution_count": 36,
   "id": "f5c64387-7a39-439d-aa73-ba0e1c4f635c",
   "metadata": {},
   "outputs": [
    {
     "name": "stdout",
     "output_type": "stream",
     "text": [
      "[{'name': 'uzma', 'marks': [91, 87, 92, 71, 83], 'branch': 'pcm'}, {'name': 'azeema', 'marks': [93, 85, 92, 93, 97], 'branch': 'pcm'}]\n"
     ]
    }
   ],
   "source": [
    "import json\n",
    "with open('seria.json','r') as file:\n",
    "    print(json.load(file))"
   ]
  },
  {
   "cell_type": "markdown",
   "id": "0563d036-6e8f-4170-8958-9171d4c12eb7",
   "metadata": {},
   "source": [
    "#### Add object in serialization"
   ]
  },
  {
   "cell_type": "markdown",
   "id": "8d761c4b-99a4-409a-9b5f-6d755e8681ec",
   "metadata": {},
   "source": [
    "### Pickling\n",
    "1. <b>pickling</b> is the process whereby a python object hierarchy is converte into a byte stream\n",
    "2. <b>unpickling</b> is the inverse operation, whereby a byte stream (from a binary file or bytes-like object) is converted back into object hierarchy."
   ]
  },
  {
   "cell_type": "markdown",
   "id": "99999c23-b2cb-403f-9bb9-b25a477dcc8c",
   "metadata": {},
   "source": [
    "### Pickle Vs Json\n",
    "1. Pickle lets the user to store data in binary format. JSON lets the user store data in a human-readable text format."
   ]
  },
  {
   "cell_type": "markdown",
   "id": "8c979889-a5dc-45e8-aac5-726d8d36ca52",
   "metadata": {},
   "source": [
    "---"
   ]
  },
  {
   "cell_type": "markdown",
   "id": "642c8fc9-0490-4cce-b46d-e392d4d473fb",
   "metadata": {},
   "source": [
    "# 🔍 What is Comprehension in Python?\n",
    "## Comprehension is a compact and elegant way to create and process collections (like lists, sets, or dictionaries) in a single line of code — making your code more readable and efficient.\n",
    "## Instead of writing multiple lines with loops and conditions, you can use comprehension syntax to get the same result in one line."
   ]
  },
  {
   "cell_type": "markdown",
   "id": "a4e5c8a0-7cf0-4954-987a-6f59e8e90468",
   "metadata": {},
   "source": [
    "## 💡 Types of Comprehensions in Python:\n",
    "\n",
    "## Type of comprehensions \n",
    "- List Comprehension : Create a new list from an iterable\n",
    "- Set Comprehension : Create a set (unique values only)\n",
    "- Dictionary Comprehension : Create a dictionary with key-value pairs"
   ]
  },
  {
   "cell_type": "markdown",
   "id": "9c3baffd-670c-47dc-a3aa-7820e21bed6e",
   "metadata": {},
   "source": [
    "### 🔹 Basic Syntax:\n",
    "### new_list = [expression for item in iterable if condition]"
   ]
  },
  {
   "cell_type": "markdown",
   "id": "bdfa4e96-9e4c-4fd4-b8aa-d70992d6747f",
   "metadata": {},
   "source": [
    "- expression : The value to store in the new list\n",
    "- item : The variable representing each element in the iterable\n",
    "- iterable : A collection (like a list or range)\n",
    "- condition (optional) : A filter to include elements"
   ]
  },
  {
   "cell_type": "markdown",
   "id": "4319071f-d735-4c8e-bfc1-8e07c90a9d51",
   "metadata": {},
   "source": [
    "# List comprehension\n",
    "## list comprehension provides a concise way of creaing lists\n",
    "### Advantages of List comprehension\n",
    "- More time-efficient and space-efficient than loops\n",
    "- Require fewer lines of codes\n",
    "- Transforms iterative statement into a formula"
   ]
  },
  {
   "cell_type": "code",
   "execution_count": 2,
   "id": "ddc71028-39f7-4d23-af4b-9f42a00b7dff",
   "metadata": {},
   "outputs": [
    {
     "name": "stdout",
     "output_type": "stream",
     "text": [
      "List of no. : [1, 2, 3, 4, 5, 6, 7, 8, 9, 10]\n"
     ]
    }
   ],
   "source": [
    "# Que->1 Display list of range 1 to 10\n",
    "l = [i for i in range(1,11)]\n",
    "print(f'List of no. : {l}')"
   ]
  },
  {
   "cell_type": "code",
   "execution_count": 3,
   "id": "c558d6ac-b493-4861-b37b-5c1e48d37af4",
   "metadata": {},
   "outputs": [
    {
     "name": "stdout",
     "output_type": "stream",
     "text": [
      "Scalar multiplication on a vector : [-6, -9, -12]\n"
     ]
    }
   ],
   "source": [
    "# Que->2 Scalar multiplicaton on a vector\n",
    "v = [2,3,4]\n",
    "s = -3\n",
    "l = [i*s for i in v]\n",
    "print(f'Scalar multiplication on a vector : {l}')"
   ]
  },
  {
   "cell_type": "code",
   "execution_count": 4,
   "id": "fa227747-51a5-4fcd-8347-bcf7ad9b7914",
   "metadata": {},
   "outputs": [
    {
     "name": "stdout",
     "output_type": "stream",
     "text": [
      "Square of a list : [4, 16, 36, 64, 9, 25, 49]\n"
     ]
    }
   ],
   "source": [
    "# Que->3 square of a list\n",
    "li = [2,4,6,8,3,5,7]\n",
    "nl = [i**2 for i in li]\n",
    "print(f'Square of a list : {nl}')"
   ]
  },
  {
   "cell_type": "code",
   "execution_count": 5,
   "id": "6d3d2d1a-75af-479f-b8da-d97ac43103ba",
   "metadata": {},
   "outputs": [
    {
     "name": "stdout",
     "output_type": "stream",
     "text": [
      "List of no which is divisible by 5 : [5, 10, 15, 20, 25, 30, 35, 40, 45, 50]\n"
     ]
    }
   ],
   "source": [
    "# Que->4 make a list which is divisible by 5 in a given range(1,50)\n",
    "li = [i for i in range(1,51) if i%5 == 0]\n",
    "print(f'List of no which is divisible by 5 : {li}')"
   ]
  },
  {
   "cell_type": "code",
   "execution_count": 6,
   "id": "f3c715d2-1ba7-4341-9ad2-725a96c4896b",
   "metadata": {},
   "outputs": [
    {
     "name": "stdout",
     "output_type": "stream",
     "text": [
      "Programing language that start frorm 'P' : ['Python', 'PHP']\n"
     ]
    }
   ],
   "source": [
    "# Que->5 Display that programing language that's name start form 'p'\n",
    "language = ['Java','C','Python','Java_script','PHP','C++','Ruby']\n",
    "lang_p = [i for i in language if i[0] == 'P']\n",
    "print(f\"Programing language that start frorm 'P' : {lang_p}\")"
   ]
  },
  {
   "cell_type": "markdown",
   "id": "41130ea5-7880-414e-86a4-c3f4fc79375b",
   "metadata": {},
   "source": [
    "### Nested if with List Comprehension"
   ]
  },
  {
   "cell_type": "code",
   "execution_count": 7,
   "id": "fed1e0ef-1829-446f-9bfb-cf01eef06581",
   "metadata": {},
   "outputs": [
    {
     "name": "stdout",
     "output_type": "stream",
     "text": [
      "New fruit basket : ['apple']\n"
     ]
    }
   ],
   "source": [
    "# Que->6 Add new list from my_fruit and items if the fruit exists in basket and also starts with 'a'\n",
    "basket = ['apple','guava','cherry','banana']\n",
    "my_fruit = ['apple','kiwi','grapes','banana']\n",
    "nl = [i for i in my_fruit if i in basket if i.startswith('a')]\n",
    "print(f'New fruit basket : {nl}')"
   ]
  },
  {
   "cell_type": "markdown",
   "id": "bd0b18d6-d022-43cb-8fa3-24a25373b472",
   "metadata": {},
   "source": [
    "### Nested list comprehension"
   ]
  },
  {
   "cell_type": "code",
   "execution_count": 8,
   "id": "bdcb8e46-d16d-436d-8d59-512dd8281a84",
   "metadata": {},
   "outputs": [
    {
     "name": "stdout",
     "output_type": "stream",
     "text": [
      "Matrix of 3*3 : [[1, 2, 3], [2, 4, 6], [3, 6, 9]]\n"
     ]
    }
   ],
   "source": [
    "# Que->7 Print a (3,3) matrix usint list comprehension\n",
    "matrix = [[i*j for i in range(1,4)] for j in range(1,4)]\n",
    "print(f'Matrix of 3*3 : {matrix}')"
   ]
  },
  {
   "cell_type": "code",
   "execution_count": 9,
   "id": "da769cba-1cda-475a-927c-5cf9e950c40c",
   "metadata": {},
   "outputs": [
    {
     "name": "stdout",
     "output_type": "stream",
     "text": [
      "Cartisian product of 2 list : [5, 6, 7, 8, 10, 12, 14, 16, 15, 18, 21, 24, 20, 24, 28, 32]\n"
     ]
    }
   ],
   "source": [
    "# Que->8 Cartesian products -> Nested loops\n",
    "l1 = [1,2,3,4]\n",
    "l2 = [5,6,7,8]\n",
    "cartisian = [i*j for i in l1 for j in l2]\n",
    "print(f'Cartisian product of 2 list : {cartisian}')"
   ]
  },
  {
   "cell_type": "markdown",
   "id": "da058561-1d06-4800-b153-095c3f7157f6",
   "metadata": {},
   "source": [
    "# Tuple comprehension"
   ]
  },
  {
   "cell_type": "code",
   "execution_count": 10,
   "id": "c4ba9de2-7035-45fc-aa82-47ee348c1562",
   "metadata": {},
   "outputs": [
    {
     "name": "stdout",
     "output_type": "stream",
     "text": [
      "(2, 3, 4, 5, 6, 7, 8)\n",
      "(6, 9, 12, 15, 18, 21, 24)\n"
     ]
    }
   ],
   "source": [
    "x = tuple([i for i in range(2,9)])\n",
    "print(x)\n",
    "y = tuple([i*3 for i in x])\n",
    "print(y)"
   ]
  },
  {
   "cell_type": "markdown",
   "id": "e8205a14-155f-45c7-b715-510bc6541df3",
   "metadata": {},
   "source": [
    "# sets comprehension"
   ]
  },
  {
   "cell_type": "code",
   "execution_count": 11,
   "id": "516eba04-710c-4f82-97d5-aaa695c6791c",
   "metadata": {},
   "outputs": [
    {
     "name": "stdout",
     "output_type": "stream",
     "text": [
      "Set comprehension : \n"
     ]
    },
    {
     "data": {
      "text/plain": [
       "{1, 3, 5, 7, 9}"
      ]
     },
     "execution_count": 11,
     "metadata": {},
     "output_type": "execute_result"
    }
   ],
   "source": [
    "print('Set comprehension : ')\n",
    "{i for i in range(1,10) if i%2 == 1}"
   ]
  },
  {
   "cell_type": "markdown",
   "id": "bc2869e2-db7b-42d2-99c1-f1cd0dbc4a33",
   "metadata": {},
   "source": [
    "# Dictionary Comprehension "
   ]
  },
  {
   "cell_type": "code",
   "execution_count": 13,
   "id": "66e07c28-c463-4a7d-9808-607f85b0079a",
   "metadata": {},
   "outputs": [
    {
     "data": {
      "text/plain": [
       "{0: 0, 1: 1, 2: 4, 3: 9, 4: 16}"
      ]
     },
     "execution_count": 13,
     "metadata": {},
     "output_type": "execute_result"
    }
   ],
   "source": [
    "{x: x**2 for x in range(5)}"
   ]
  },
  {
   "cell_type": "markdown",
   "id": "291a54b6-b476-4fc3-8827-6cf4a9bebeb5",
   "metadata": {},
   "source": [
    "----"
   ]
  },
  {
   "cell_type": "markdown",
   "id": "dcab48ff-6bf8-4892-b386-887f301d0352",
   "metadata": {},
   "source": [
    "# ⚠️ Exception Handling \n",
    "## Exception handling is a way to manage and respond to runtime errors in your program — without crashing it.\n",
    "### Instead of the program stopping with an error, Python lets you handle those errors gracefully using try, except, and other related keywords."
   ]
  },
  {
   "cell_type": "markdown",
   "id": "71687f7c-cc22-44ae-bf4a-7404ee06ae48",
   "metadata": {},
   "source": [
    "## 🔧 Why Is It Important?\n",
    "- Prevents the program from crashing\n",
    "- Lets you show user-friendly error messages\n",
    "- Helps with debugging and error logging\n",
    "- Useful for real-world applications like file handling, web requests, etc."
   ]
  },
  {
   "cell_type": "markdown",
   "id": "5cee15c8-a22f-48e8-afe7-c14103f8eaef",
   "metadata": {},
   "source": [
    "## 🧱 Basic Structure of Exception Handling:\n",
    "###  try:\n",
    "    # Code that might throw an error\n",
    "    risky_operation()\n",
    "### except SomeError:\n",
    "    # Code to run if an error occurs\n",
    "    print(\"Oops! Something went wrong.\")\n"
   ]
  },
  {
   "cell_type": "markdown",
   "id": "8dcf0eb7-26df-4975-b70f-dad5fe0df918",
   "metadata": {},
   "source": [
    "## 🔄 Keywords in Exception Handling:"
   ]
  },
  {
   "cell_type": "markdown",
   "id": "a837f63f-a925-4ebf-ad77-848da58fbe42",
   "metadata": {},
   "source": [
    "### Keyword\t\n",
    "- try : Block of code to monitor for errors\n",
    "- except : Block to handle the error\n",
    "- else : Runs if no exception occurs\n",
    "- finally : Runs no matter what (used for cleanup)"
   ]
  },
  {
   "cell_type": "markdown",
   "id": "9436c04a-2225-4a5b-a248-fb05b56097ed",
   "metadata": {},
   "source": [
    "## There are 2 stages where error may happen in a program\n",
    "1. During compilation -> Syntax Error\n",
    "2. During execution -> Exceptions"
   ]
  },
  {
   "cell_type": "markdown",
   "id": "f0b300c2-e930-41c9-ace9-593062a639a2",
   "metadata": {},
   "source": [
    "## Syntax Error\n",
    "1. somethng in the program is not written according to the program grammer.\n",
    "2. error is raised by the interpreter/compiler\n",
    "3. you can solve it by rectifying the program"
   ]
  },
  {
   "cell_type": "code",
   "execution_count": 16,
   "id": "a55b8a1b-92ee-4ca2-94d5-1645ee673829",
   "metadata": {},
   "outputs": [],
   "source": [
    "# # examples of syntax error\n",
    "# print 'Hello world'"
   ]
  },
  {
   "cell_type": "markdown",
   "id": "c0ab2cd0-b7a9-4181-8dad-b9f1fd6a6694",
   "metadata": {},
   "source": [
    "### Other examples of syntax error\n",
    "1. Leaving symbols like colon, brackets\n",
    "2. Misspelling a keyword\n",
    "3. Incorrect indentation\n",
    "4. Empty if/else/loops/class/functions"
   ]
  },
  {
   "cell_type": "code",
   "execution_count": 17,
   "id": "39b3b08b-de0c-4852-962b-639923907055",
   "metadata": {},
   "outputs": [],
   "source": [
    "# # these are the examples of syntax erro\n",
    "\n",
    "# a = 5 \n",
    "# if a == 3\n",
    "#     print('hello')\n",
    "\n",
    "# a = 5 \n",
    "# iff a == 3:\n",
    "# print('hello')\n",
    "\n",
    "# a = 5 \n",
    "# if a == 3:\n",
    "# print('hello')       # indentation error"
   ]
  },
  {
   "cell_type": "markdown",
   "id": "fde5082f-140d-4b48-9336-a9ef1df5dcd1",
   "metadata": {},
   "source": [
    "## 📌 Common Exceptions:\n",
    "- ZeroDivisionError\n",
    "- ValueError\n",
    "- FileNotFoundError\n",
    "- TypeError\n",
    "- IndexError"
   ]
  },
  {
   "cell_type": "markdown",
   "id": "76afcc19-052a-410e-9b6e-2cb5ead3dde9",
   "metadata": {},
   "source": [
    "### IndexError \n",
    "The IndexError is thrown when trying to access an item at an invalid index."
   ]
  },
  {
   "cell_type": "code",
   "execution_count": 18,
   "id": "13b4e5d3-09f7-444d-8496-36db38af100b",
   "metadata": {},
   "outputs": [],
   "source": [
    "# l = [3,5,7,9]\n",
    "# print(l[6])"
   ]
  },
  {
   "cell_type": "markdown",
   "id": "8484426a-6ead-4063-90bc-6775bddacf03",
   "metadata": {},
   "source": [
    "### ModuleNotFoundError\n",
    "The ModuleNotFoundError is thrown when a module could not be found"
   ]
  },
  {
   "cell_type": "code",
   "execution_count": 19,
   "id": "c7eaffae-f8a6-4afd-a664-b6e18ba9ec63",
   "metadata": {},
   "outputs": [],
   "source": [
    "# import maths\n",
    "# math.factorial(5)"
   ]
  },
  {
   "cell_type": "markdown",
   "id": "1bfb40a4-c4a9-49dd-b6ab-c13501618bb5",
   "metadata": {},
   "source": [
    "### KeyError\n",
    "The KeyError is thrown when a key is not found"
   ]
  },
  {
   "cell_type": "code",
   "execution_count": 20,
   "id": "42bd7623-845f-4a47-a97d-4da1656b91ba",
   "metadata": {},
   "outputs": [],
   "source": [
    "# d = {'name':'uzma','age':21}\n",
    "# d['gender']"
   ]
  },
  {
   "cell_type": "markdown",
   "id": "5ae9826e-c536-4b6e-bce4-cdb5aa890c3b",
   "metadata": {},
   "source": [
    "### TypeError\n",
    "The TypeError is thrown when an operation or function is applied to an object of an inappropreate type"
   ]
  },
  {
   "cell_type": "code",
   "execution_count": 21,
   "id": "9ed18562-631b-4fbd-b002-33055a5f45c2",
   "metadata": {},
   "outputs": [],
   "source": [
    "# 15 + 'a'"
   ]
  },
  {
   "cell_type": "markdown",
   "id": "aec97813-e6c7-420b-b506-1b23e1155f5e",
   "metadata": {},
   "source": [
    "### ValueError\n",
    "The ValueError is thrown when a funcion's argument is of an inappropiate type."
   ]
  },
  {
   "cell_type": "code",
   "execution_count": 22,
   "id": "a39a063c-3b15-473f-a892-680e70f484ac",
   "metadata": {},
   "outputs": [],
   "source": [
    "# int('uzma')"
   ]
  },
  {
   "cell_type": "markdown",
   "id": "3126aa79-3829-4e71-bae0-11215870a2b8",
   "metadata": {},
   "source": [
    "### NameError\n",
    "The NameError is thrown when an object could no be found"
   ]
  },
  {
   "cell_type": "code",
   "execution_count": 23,
   "id": "0ed82f44-8361-4694-b548-842ddabb0128",
   "metadata": {},
   "outputs": [],
   "source": [
    "# name = 'uzma'\n",
    "# print(nam)"
   ]
  },
  {
   "cell_type": "markdown",
   "id": "2e6bf298-ac91-452a-b74d-8d8ca05423af",
   "metadata": {},
   "source": [
    "### AttributeError\n",
    "The AttributeError is thrown when method of another data type is used"
   ]
  },
  {
   "cell_type": "code",
   "execution_count": 24,
   "id": "4b7cb588-ac03-4a05-ae21-69c71b9a781a",
   "metadata": {},
   "outputs": [],
   "source": [
    "# l = [2,4,5,7,8]\n",
    "# l.upper()"
   ]
  },
  {
   "cell_type": "markdown",
   "id": "017177fb-33b2-4f5f-883f-53d2c57a4f86",
   "metadata": {},
   "source": [
    "## Exceptions\n",
    "if things go wrong during the executaion of the program(runtime). It generally happens when something unforeseen has happened.<br>\n",
    "1. Exceptions are raised by python runtime\n",
    "2. You have to takle is on the fly\n",
    "#### Examples\n",
    "1. Memory overflow\n",
    "2. Divide by 0 -> logical error\n",
    "3. Databse error"
   ]
  },
  {
   "cell_type": "markdown",
   "id": "361abfcf-fede-4067-b578-98c7c283a9c6",
   "metadata": {},
   "source": [
    "### Why is it important to handle exceptions?\n",
    "1. avoide user experience\n",
    "2. security -> hacker can hack our code"
   ]
  },
  {
   "cell_type": "markdown",
   "id": "fd28a3af-4c5d-4ea0-bbbc-6c8fe080c6a4",
   "metadata": {},
   "source": [
    "## The error comes on display is called <b>Stackrace</b>\n",
    "##### ---------------------------------------------------------------------------\n",
    "##### AttributeError                            Traceback (most recent call last)\n",
    "##### Cell In[25], line 2\n",
    "#####       1 l = [2,4,5,7,8]\n",
    "##### ----> 2 l.upper()           (TellsErrorLine)\n",
    "\n",
    "##### AttributeError: 'list' object has no attribute 'upper'\n",
    "#####   (TypeOfError)          (MessageForUser)"
   ]
  },
  {
   "cell_type": "markdown",
   "id": "edc0675f-3a3d-4f50-a5a2-39bdcb8f09e1",
   "metadata": {},
   "source": [
    "### How to handle exceptions\n",
    "-> Try except block <br>\n",
    "When u feel there maight be something wrong with code then put it into the try block"
   ]
  },
  {
   "cell_type": "code",
   "execution_count": 25,
   "id": "c9b11eb8-d7a5-4ce4-980b-afdf6b2312bc",
   "metadata": {},
   "outputs": [
    {
     "name": "stdout",
     "output_type": "stream",
     "text": [
      "Python is very popular language for AI/ML\n",
      "Python is easy to use and have friendly environment\n",
      "let's see\n",
      "I am appending new line\n",
      "Use of \"with\" in file handling\n",
      "Use of seek()p\n",
      "DOB -> 20/04-2025\n",
      "{'name': 'safi', 'age': 31, 'gender': 'male'}\n"
     ]
    }
   ],
   "source": [
    "# example\n",
    "with open('handling_file.txt','r') as file:\n",
    "    print(file.read())"
   ]
  },
  {
   "cell_type": "markdown",
   "id": "652e8e44-80ae-44f4-bbf2-e8fca4cc1f37",
   "metadata": {},
   "source": [
    "## try"
   ]
  },
  {
   "cell_type": "code",
   "execution_count": 26,
   "id": "0f7aa585-cd82-4954-9d08-3939fb3c0c8f",
   "metadata": {},
   "outputs": [
    {
     "name": "stdout",
     "output_type": "stream",
     "text": [
      "Python is very popular language for AI/ML\n",
      "Python is easy to use and have friendly environment\n",
      "let's see\n",
      "I am appending new line\n",
      "Use of \"with\" in file handling\n",
      "Use of seek()p\n",
      "DOB -> 20/04-2025\n",
      "{'name': 'safi', 'age': 31, 'gender': 'male'}\n",
      "\n",
      "some error occurred\n"
     ]
    }
   ],
   "source": [
    "# catching specific expection\n",
    "try:\n",
    "    with open('handling_file.txt','r') as file:\n",
    "            print(file.read())\n",
    "    print(m)\n",
    "except:\n",
    "    print('\\nsome error occurred')  # need to tell which type of error occured"
   ]
  },
  {
   "cell_type": "code",
   "execution_count": 27,
   "id": "6258274d-6d45-4bd6-a7bb-0457fe8d17e2",
   "metadata": {},
   "outputs": [
    {
     "name": "stdout",
     "output_type": "stream",
     "text": [
      "Sorry file not found\n"
     ]
    }
   ],
   "source": [
    "# let user enter wrong name of file\n",
    "try:\n",
    "    with open('handing_file.txt','r') as file:\n",
    "        print(file.read())\n",
    "except:\n",
    "    print('Sorry file not found')"
   ]
  },
  {
   "cell_type": "code",
   "execution_count": 28,
   "id": "9bc091eb-a412-4f04-8040-762d82c20faa",
   "metadata": {},
   "outputs": [
    {
     "name": "stdout",
     "output_type": "stream",
     "text": [
      "Python is very popular language for AI/ML\n",
      "Python is easy to use and have friendly environment\n",
      "let's see\n",
      "I am appending new line\n",
      "Use of \"with\" in file handling\n",
      "Use of seek()p\n",
      "DOB -> 20/04-2025\n",
      "{'name': 'safi', 'age': 31, 'gender': 'male'}\n",
      "56\n",
      "0.8333333333333334\n",
      "list index out of range\n"
     ]
    }
   ],
   "source": [
    "# risky piece of code come in the try block\n",
    "# if we have multiple error\n",
    "# make except for each error with (Error Name)\n",
    "try:\n",
    "    m = 56\n",
    "    with open('handling_file.txt','r') as file:\n",
    "        print(file.read())\n",
    "    print(m)\n",
    "    print(5/6)\n",
    "    lis = [4,5,7,9,2]\n",
    "    print(lis[9])          # list out of range\n",
    "    print(45 + '65')        # unsupported operand type \n",
    "except FileNotFoundError:\n",
    "    print('File Not Found')\n",
    "except NameError:\n",
    "    print('Variable Not define')\n",
    "except ZeroDivisionError:\n",
    "    print(\"Number can't divide by 0\")\n",
    "except Exception as e:       # can handling any type of exception\n",
    "    print(e)                 # exception comes at the end "
   ]
  },
  {
   "cell_type": "markdown",
   "id": "a8e6b358-bd25-4b26-a84c-1f621443273a",
   "metadata": {},
   "source": [
    "## else"
   ]
  },
  {
   "cell_type": "code",
   "execution_count": 29,
   "id": "575e1028-c41b-4814-8ee3-135e17faacc1",
   "metadata": {},
   "outputs": [
    {
     "name": "stdout",
     "output_type": "stream",
     "text": [
      "Python is very popular language for AI/ML\n",
      "Python is easy to use and have friendly environment\n",
      "let's see\n",
      "I am appending new line\n",
      "Use of \"with\" in file handling\n",
      "Use of seek()p\n",
      "DOB -> 20/04-2025\n",
      "{'name': 'safi', 'age': 31, 'gender': 'male'}\n"
     ]
    }
   ],
   "source": [
    "# if there is no mistake in try so go to esle\n",
    "try:\n",
    "    file = open('handling_file.txt','r')\n",
    "except FileNotFoundError:\n",
    "    print('File Not Found')\n",
    "except Exception as e:\n",
    "    print(e)\n",
    "else:\n",
    "    print(file.read())"
   ]
  },
  {
   "cell_type": "markdown",
   "id": "f779109d-2898-44dc-98c7-f5d589223c60",
   "metadata": {},
   "source": [
    "## finally"
   ]
  },
  {
   "cell_type": "code",
   "execution_count": 30,
   "id": "26b52a82-7782-4de9-abdb-2537daa9f7a2",
   "metadata": {},
   "outputs": [
    {
     "name": "stdout",
     "output_type": "stream",
     "text": [
      "File Not Found\n",
      "Thanks!!!\n"
     ]
    }
   ],
   "source": [
    "# finally will execute at any how\n",
    "try:\n",
    "    file = open('handlind_file.txt')\n",
    "except FileNotFoundError:\n",
    "    print('File Not Found')\n",
    "except Exception as e:\n",
    "    print(e)\n",
    "else:\n",
    "    print(file.read())\n",
    "finally:\n",
    "    file.close()         # for security \n",
    "    print('Thanks!!!')"
   ]
  },
  {
   "cell_type": "markdown",
   "id": "b936f265-2006-4c57-838e-2858416d0309",
   "metadata": {},
   "source": [
    "## Raise Exception\n",
    "In python programming, exceptions are raised when errors occur at runtime.<br>\n",
    "We can also manually raise exceptions using the raise keyword.<br>\n",
    "We can optionally pass values to the exception to clarify why that exception was raised"
   ]
  },
  {
   "cell_type": "code",
   "execution_count": 31,
   "id": "33544267-fcdd-4d3d-b1a4-0f25eaa50d1e",
   "metadata": {},
   "outputs": [],
   "source": [
    "# raise ZeroDivisionError('Error he bhai')"
   ]
  },
  {
   "cell_type": "code",
   "execution_count": 32,
   "id": "042305da-f09d-43c3-a216-f5f51ca64ba1",
   "metadata": {},
   "outputs": [
    {
     "name": "stdout",
     "output_type": "stream",
     "text": [
      "10000\n"
     ]
    }
   ],
   "source": [
    "class Bank:\n",
    "    def __init__(self,balance):\n",
    "        self.balance = balance\n",
    "    def withdraw(self,amount):\n",
    "        if amount < 0:\n",
    "            raise Exception(\"amount can't be -ve\")\n",
    "        if self.balance < amount:\n",
    "            raise Exception('amount out of stack')\n",
    "        self.balance - self.balance - amount\n",
    "obj = Bank(10000)\n",
    "try:\n",
    "    obj.withdraw(1500)\n",
    "except Exception as e:\n",
    "    print(e)\n",
    "else:\n",
    "    print(obj.balance)"
   ]
  },
  {
   "cell_type": "code",
   "execution_count": null,
   "id": "ac3f77d3-5e82-47d7-9c20-44638981675d",
   "metadata": {},
   "outputs": [],
   "source": []
  },
  {
   "cell_type": "code",
   "execution_count": null,
   "id": "051c2f6d-5887-4c52-9c99-0b8c9023b608",
   "metadata": {},
   "outputs": [],
   "source": []
  }
 ],
 "metadata": {
  "kernelspec": {
   "display_name": "Python 3 (ipykernel)",
   "language": "python",
   "name": "python3"
  },
  "language_info": {
   "codemirror_mode": {
    "name": "ipython",
    "version": 3
   },
   "file_extension": ".py",
   "mimetype": "text/x-python",
   "name": "python",
   "nbconvert_exporter": "python",
   "pygments_lexer": "ipython3",
   "version": "3.10.10"
  }
 },
 "nbformat": 4,
 "nbformat_minor": 5
}
