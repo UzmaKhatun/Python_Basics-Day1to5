{
 "cells": [
  {
   "cell_type": "markdown",
   "id": "e162db76-19c8-4bc2-8950-28f9fb484bab",
   "metadata": {},
   "source": [
    "# Day-3 Of \n",
    "# <b>#100 Days of Machine Learning</b>"
   ]
  },
  {
   "cell_type": "markdown",
   "id": "30bf0523-0b6b-446d-9b5e-ebe059ab1177",
   "metadata": {},
   "source": [
    "---"
   ]
  },
  {
   "cell_type": "markdown",
   "id": "709e7134-8641-4319-9716-dfd4a62b9382",
   "metadata": {},
   "source": [
    "# 🔹 What is a Function in Python?\n",
    "## A function is a reusable block of code that performs a specific task. Instead of writing the same logic multiple times, you define it once as a function and call it wherever needed.\n",
    "## There are two types of functions :-\n",
    "#### 1. Build-in function -> print(), info(), type()\n",
    "#### 2. User define function -> functions that user created \n",
    "## ✅ Why Use Functions?\n",
    "#### - Avoid repetition (DRY principle: Don’t Repeat Yourself)\n",
    "#### - Improve code organization and readability\n",
    "#### - Easier to test and debug\n",
    "### Essential for modular machine learning pipelines like data cleaning, model training, and evaluation"
   ]
  },
  {
   "cell_type": "markdown",
   "id": "8f732b58-34e6-40bc-a866-21fdd63fdb30",
   "metadata": {},
   "source": [
    "## 📌 Basic Syntax of a Function"
   ]
  },
  {
   "cell_type": "code",
   "execution_count": 1,
   "id": "b8df30b8-5742-4235-999e-a69733cf2ab5",
   "metadata": {},
   "outputs": [],
   "source": [
    "def function_name(parameters):\n",
    "    # Code block (function body)\n",
    "    return result"
   ]
  },
  {
   "cell_type": "markdown",
   "id": "403172ff-17ce-4256-853f-9f7955cf6c95",
   "metadata": {},
   "source": [
    "### - def – keyword to define a function\n",
    "### - function_name – any valid name you choose\n",
    "### - parameters – optional inputs the function uses\n",
    "### - return – outputs a result back to where the function was called"
   ]
  },
  {
   "cell_type": "markdown",
   "id": "60e5303c-3a3b-4bdb-bff1-155f875fb8ab",
   "metadata": {},
   "source": [
    "## 📍A Simple Function"
   ]
  },
  {
   "cell_type": "code",
   "execution_count": 2,
   "id": "ca45c44e-a85c-4d4b-be1e-d8afca120513",
   "metadata": {},
   "outputs": [],
   "source": [
    "def greet():\n",
    "    print(\"Hello! Welcome to ML.\")"
   ]
  },
  {
   "cell_type": "code",
   "execution_count": 3,
   "id": "7cbab237-d57d-41c7-bed2-1af3879b0c61",
   "metadata": {},
   "outputs": [
    {
     "name": "stdout",
     "output_type": "stream",
     "text": [
      "Hello! Welcome to ML.\n"
     ]
    }
   ],
   "source": [
    "greet()"
   ]
  },
  {
   "cell_type": "markdown",
   "id": "8bfcb4d4-445d-449f-933f-067c59cbd41f",
   "metadata": {},
   "source": [
    "## 📍 Function with Parameters"
   ]
  },
  {
   "cell_type": "code",
   "execution_count": 4,
   "id": "3cc27885-36c8-427c-9d98-d677938c5064",
   "metadata": {},
   "outputs": [],
   "source": [
    "def greet_user(name):\n",
    "    return f\"Hello, {name}!\""
   ]
  },
  {
   "cell_type": "code",
   "execution_count": 5,
   "id": "dab2cb68-4ba5-45fa-b76b-712d8b4d472e",
   "metadata": {},
   "outputs": [
    {
     "name": "stdout",
     "output_type": "stream",
     "text": [
      "Hello, Aisha!\n"
     ]
    }
   ],
   "source": [
    "print(greet_user(\"Aisha\"))"
   ]
  },
  {
   "cell_type": "markdown",
   "id": "1fea8a85-dbfe-4c28-954e-a069f835943f",
   "metadata": {},
   "source": [
    "## 🔄 Return vs Print\n",
    "### print() displays the output\n",
    "### return sends the output back to the caller (and can be stored in a variable)"
   ]
  },
  {
   "cell_type": "code",
   "execution_count": 6,
   "id": "9a1456f5-3d4b-47d7-8439-283674abafb2",
   "metadata": {},
   "outputs": [
    {
     "name": "stdout",
     "output_type": "stream",
     "text": [
      "8\n"
     ]
    }
   ],
   "source": [
    "def add(a, b):\n",
    "    return a + b\n",
    "\n",
    "result = add(5, 3)\n",
    "print(result)  # Output: 8"
   ]
  },
  {
   "cell_type": "markdown",
   "id": "e254d0a2-02da-4b01-a6c9-3c73467ae8ed",
   "metadata": {},
   "source": [
    "## ⚙️ Default Arguments\n",
    "### You can set default values for parameters so the user doesn’t have to provide them."
   ]
  },
  {
   "cell_type": "code",
   "execution_count": 7,
   "id": "e0f52589-99f7-4d57-b0cf-572a1aad2b39",
   "metadata": {},
   "outputs": [],
   "source": [
    "def greet(name=\"User\"):\n",
    "    return f\"Hello, {name}!\""
   ]
  },
  {
   "cell_type": "code",
   "execution_count": 8,
   "id": "65afd3f6-8b0a-4d9a-8fba-43d7e206cadc",
   "metadata": {},
   "outputs": [
    {
     "name": "stdout",
     "output_type": "stream",
     "text": [
      "Hello, User!\n",
      "Hello, John!\n"
     ]
    }
   ],
   "source": [
    "print(greet())         # Hello, User!\n",
    "print(greet(\"John\"))   # Hello, John!"
   ]
  },
  {
   "cell_type": "markdown",
   "id": "c2b08985-6169-4231-9e7b-d16514c42565",
   "metadata": {},
   "source": [
    "## 🔁 Why Functions Are Crucial in ML\n",
    "### In machine learning, we write functions to:\n",
    "#### - Clean data\n",
    "#### - Preprocess features\n",
    "#### - Split datasets\n",
    "#### -Train models\n",
    "#### -Evaluate performance"
   ]
  },
  {
   "cell_type": "markdown",
   "id": "026b8036-fe24-42c7-b535-35b4fbcd08a6",
   "metadata": {},
   "source": [
    "## Examples"
   ]
  },
  {
   "cell_type": "code",
   "execution_count": 10,
   "id": "ca673aef-1988-4b8f-8d2d-e8a29aa17f5a",
   "metadata": {},
   "outputs": [],
   "source": [
    "# Take all possiblity, if there would be wrong input make sure to handle it like below code\n",
    "def is_even(num):\n",
    "    \"\"\"\n",
    "    This function returns if a given number is odd or even\n",
    "    iput - any valid integer\n",
    "    created by - Uzma Khatun\n",
    "    created on - 18th April 2025\n",
    "    \"\"\"\n",
    "    if type(num) is int:\n",
    "        if num %2 == 0:\n",
    "            return 'even'\n",
    "        else:\n",
    "            return 'odd'\n",
    "    else:\n",
    "        return f'Invalid input\\nArgumen must be integer'"
   ]
  },
  {
   "cell_type": "code",
   "execution_count": 11,
   "id": "aa425909-bd84-4aff-bae3-bd2c8b6ad4e9",
   "metadata": {},
   "outputs": [
    {
     "name": "stdout",
     "output_type": "stream",
     "text": [
      "odd  even  odd  even  odd  even  odd  even  odd  even  "
     ]
    }
   ],
   "source": [
    "for i in range(1,11):\n",
    "    x = is_even(i)\n",
    "    print(x,end=\"  \")"
   ]
  },
  {
   "cell_type": "code",
   "execution_count": 12,
   "id": "e4373748-fc38-4f95-8f01-aa5c3095ca1d",
   "metadata": {},
   "outputs": [
    {
     "name": "stdout",
     "output_type": "stream",
     "text": [
      "Invalid input\n",
      "Argumen must be integer\n"
     ]
    }
   ],
   "source": [
    "print(is_even('uzma'))"
   ]
  },
  {
   "cell_type": "markdown",
   "id": "06f34c9b-39f7-422a-a515-998e66f5dc16",
   "metadata": {},
   "source": [
    "### How to check the documentation of any function"
   ]
  },
  {
   "cell_type": "code",
   "execution_count": 13,
   "id": "c67912f0-ed32-4554-b8c0-010c066c3310",
   "metadata": {},
   "outputs": [
    {
     "name": "stdout",
     "output_type": "stream",
     "text": [
      "\n",
      "This function returns if a given number is odd or even\n",
      "iput - any valid integer\n",
      "created by - Uzma Khatun\n",
      "created on - 18th April 2025\n",
      "\n"
     ]
    }
   ],
   "source": [
    "print(is_even.__doc__)"
   ]
  },
  {
   "cell_type": "markdown",
   "id": "9cbb4a8d-2087-49b5-ae12-a2650ffb644e",
   "metadata": {},
   "source": [
    "## odd even no. function"
   ]
  },
  {
   "cell_type": "code",
   "execution_count": 14,
   "id": "c7fa281e-8152-4614-993b-257a359cefb1",
   "metadata": {},
   "outputs": [],
   "source": [
    "# odd even no. function\n",
    "def is_odd(num):\n",
    "    if num%2 == 1:\n",
    "        print('odd')\n",
    "    else:\n",
    "        print('even')"
   ]
  },
  {
   "cell_type": "code",
   "execution_count": 15,
   "id": "f16e03f0-92ff-4e3a-a02a-cdb29f3f96de",
   "metadata": {},
   "outputs": [
    {
     "name": "stdout",
     "output_type": "stream",
     "text": [
      "even\n"
     ]
    }
   ],
   "source": [
    "is_odd(6)"
   ]
  },
  {
   "cell_type": "markdown",
   "id": "223996af-fd69-46a6-900b-1972ba2c147e",
   "metadata": {},
   "source": [
    "## 📌Lambda function\n",
    "### A lambda function is a samll anonymous (which has no name) function \n",
    "### A lambda function can take any number of arguments, but can only have one expression."
   ]
  },
  {
   "cell_type": "markdown",
   "id": "9d5065da-1c6c-470e-ab56-94aaf8c2acaf",
   "metadata": {},
   "source": [
    "### Example"
   ]
  },
  {
   "cell_type": "code",
   "execution_count": 17,
   "id": "8dedef63-2033-47c4-ab11-bcfd7a5032c1",
   "metadata": {},
   "outputs": [
    {
     "data": {
      "text/plain": [
       "25"
      ]
     },
     "execution_count": 17,
     "metadata": {},
     "output_type": "execute_result"
    }
   ],
   "source": [
    "# to use lambda assign it in the variable\n",
    "x = lambda a:a**2\n",
    "x(5)"
   ]
  },
  {
   "cell_type": "code",
   "execution_count": 18,
   "id": "65d2e484-2b62-45fd-a0ab-7997af9f2e42",
   "metadata": {},
   "outputs": [
    {
     "data": {
      "text/plain": [
       "11"
      ]
     },
     "execution_count": 18,
     "metadata": {},
     "output_type": "execute_result"
    }
   ],
   "source": [
    "a = lambda x,y: x+y\n",
    "a(4,7)"
   ]
  },
  {
   "cell_type": "markdown",
   "id": "225b9af1-cc8a-4319-9853-e7cdfacaaace",
   "metadata": {},
   "source": [
    "### Diff between lambda vs Normal function\n",
    "1. No name\n",
    "2. lambda has no return value(infact,returns a function)\n",
    "3. lambda is written in 1 line\n",
    "4. not reusable<br>\n",
    "Then why use lambda functions?<br>\n",
    "<b>They are used with HOF</b> (Higher order function)"
   ]
  },
  {
   "cell_type": "code",
   "execution_count": 20,
   "id": "f91537f2-4263-4f31-9549-8141dc8422d0",
   "metadata": {},
   "outputs": [
    {
     "data": {
      "text/plain": [
       "'odd'"
      ]
     },
     "execution_count": 20,
     "metadata": {},
     "output_type": "execute_result"
    }
   ],
   "source": [
    "# odd or even\n",
    "a = lambda x:'even' if x%2 == 0 else 'odd'\n",
    "a(7)"
   ]
  },
  {
   "cell_type": "code",
   "execution_count": 19,
   "id": "84b9ea98-cad9-48e6-bdc7-db73a8d41bc6",
   "metadata": {},
   "outputs": [
    {
     "data": {
      "text/plain": [
       "[16, 25, 49, 81]"
      ]
     },
     "execution_count": 19,
     "metadata": {},
     "output_type": "execute_result"
    }
   ],
   "source": [
    "def sq(x):\n",
    "    ot = []\n",
    "    for i in x:\n",
    "        p = i**2\n",
    "        ot.append(p)\n",
    "    return ot\n",
    "sq([4,5,7,9])"
   ]
  },
  {
   "cell_type": "markdown",
   "id": "98f6a392-de97-4e8b-83ee-7cff8e9e6b25",
   "metadata": {},
   "source": [
    "## 🔹 Real Use Cases of Lambda Functions:\n",
    "### They shine when used with:\n",
    "#### - map() – for transforming data\n",
    "#### - filter() – for filtering data\n",
    "#### - reduce() – for combining data (from functools module)"
   ]
  },
  {
   "cell_type": "markdown",
   "id": "75a1cc2b-62ee-4670-a9d6-e0e6016e5052",
   "metadata": {},
   "source": [
    "## 🔸 map() Function\n",
    "### 🧠 Purpose: Apply a function to each item in an iterable (like a list)."
   ]
  },
  {
   "cell_type": "code",
   "execution_count": 21,
   "id": "955c24c8-a209-4509-b25a-546f06a0979e",
   "metadata": {},
   "outputs": [
    {
     "name": "stdout",
     "output_type": "stream",
     "text": [
      "[1, 4, 9, 16]\n"
     ]
    }
   ],
   "source": [
    "nums = [1, 2, 3, 4]\n",
    "squared = list(map(lambda x: x**2, nums))\n",
    "print(squared) "
   ]
  },
  {
   "cell_type": "code",
   "execution_count": 22,
   "id": "15cdb258-06d8-4f07-bf6b-c3ba90b59f4d",
   "metadata": {},
   "outputs": [
    {
     "data": {
      "text/plain": [
       "['even', 'odd', 'odd', 'odd', 'even', 'odd']"
      ]
     },
     "execution_count": 22,
     "metadata": {},
     "output_type": "execute_result"
    }
   ],
   "source": [
    "# odd/even labelling of list items\n",
    "list(map(lambda x:'even' if x%2==0 else 'odd',[4,5,7,3,2,7]))"
   ]
  },
  {
   "cell_type": "code",
   "execution_count": 23,
   "id": "a0e9ac93-3e87-47fc-b608-cda35eaa7460",
   "metadata": {},
   "outputs": [
    {
     "data": {
      "text/plain": [
       "[{'name': 'Jasmin', 'age': 21, 'gender': 'female'},\n",
       " {'name': 'Arvi', 'age': 16, 'gender': 'female'},\n",
       " {'name': 'John', 'age': 24, 'gender': 'Male'}]"
      ]
     },
     "execution_count": 23,
     "metadata": {},
     "output_type": "execute_result"
    }
   ],
   "source": [
    "# fetch the name\n",
    "user = [\n",
    "    {\n",
    "        'name':'Jasmin',\n",
    "        'age':21,\n",
    "        'gender':'female'\n",
    "    },\n",
    "    {\n",
    "        'name':'Arvi',\n",
    "        'age':16,\n",
    "        'gender':'female'\n",
    "    },\n",
    "    {\n",
    "        'name':'John',\n",
    "        'age':24,\n",
    "        'gender':'Male'\n",
    "    }\n",
    "]\n",
    "user"
   ]
  },
  {
   "cell_type": "code",
   "execution_count": 24,
   "id": "78216698-e670-4e53-8dbc-0b5bb3a3dc97",
   "metadata": {},
   "outputs": [
    {
     "data": {
      "text/plain": [
       "['Jasmin', 'Arvi', 'John']"
      ]
     },
     "execution_count": 24,
     "metadata": {},
     "output_type": "execute_result"
    }
   ],
   "source": [
    "list(map(lambda x:x['name'] ,user))"
   ]
  },
  {
   "cell_type": "markdown",
   "id": "358d4341-6cad-419e-acfa-eaa8808cebb5",
   "metadata": {},
   "source": [
    "## 🔸 filter() Function\n",
    "### 🧠 Purpose: Filter items based on a condition."
   ]
  },
  {
   "cell_type": "code",
   "execution_count": 25,
   "id": "186009ea-4c3f-46b6-a1d6-444dbf9e5a7e",
   "metadata": {},
   "outputs": [
    {
     "name": "stdout",
     "output_type": "stream",
     "text": [
      "[2, 4, 6]\n"
     ]
    }
   ],
   "source": [
    "nums = [1, 2, 3, 4, 5, 6]\n",
    "even = list(filter(lambda x: x % 2 == 0, nums))\n",
    "print(even)  "
   ]
  },
  {
   "cell_type": "code",
   "execution_count": 26,
   "id": "6744d4a9-51f4-4379-a6a3-6fe0a37489b1",
   "metadata": {},
   "outputs": [
    {
     "data": {
      "text/plain": [
       "[6, 8, 6, 7]"
      ]
     },
     "execution_count": 26,
     "metadata": {},
     "output_type": "execute_result"
    }
   ],
   "source": [
    "list(filter(lambda x:x>5,[4,6,8,3,2,6,7,2,1]))"
   ]
  },
  {
   "cell_type": "code",
   "execution_count": 27,
   "id": "22b5e7cf-7a97-4a04-b9a8-feb1cabd3582",
   "metadata": {},
   "outputs": [
    {
     "data": {
      "text/plain": [
       "['apple', 'avocado']"
      ]
     },
     "execution_count": 27,
     "metadata": {},
     "output_type": "execute_result"
    }
   ],
   "source": [
    "fruit = ['apple','mango','avocado','cherry']\n",
    "list(filter(lambda x:x.startswith('a'),fruit))"
   ]
  },
  {
   "cell_type": "markdown",
   "id": "f9958760-9ba2-490a-ae7e-97a77b9929e4",
   "metadata": {},
   "source": [
    "## 🔸 reduce() Function\n",
    "### 🧠 Purpose: Apply a function to combine items from left to right.\n",
    "(You need to import it from the functools module.)"
   ]
  },
  {
   "cell_type": "code",
   "execution_count": 29,
   "id": "572ec39b-d63d-45a5-8350-2db6091bb852",
   "metadata": {},
   "outputs": [],
   "source": [
    "from functools import reduce\n",
    "\n",
    "nums = [1, 2, 3, 4]\n",
    "total = reduce(lambda x, y: x + y, nums)"
   ]
  },
  {
   "cell_type": "markdown",
   "id": "da53a3f8-fe37-49b6-985a-0b64fe413701",
   "metadata": {},
   "source": [
    "🧠 What's happening:\n",
    "- 1 + 2 → 3\n",
    "- 3 + 3 → 6\n",
    "- 6 + 4 → 10"
   ]
  },
  {
   "cell_type": "code",
   "execution_count": 30,
   "id": "f1fbcbd5-d6f1-4a3f-907a-15ccad842959",
   "metadata": {},
   "outputs": [
    {
     "name": "stdout",
     "output_type": "stream",
     "text": [
      "10\n"
     ]
    }
   ],
   "source": [
    "print(total) "
   ]
  },
  {
   "cell_type": "code",
   "execution_count": 31,
   "id": "32165b20-fa4b-4a92-acfd-730a343f101f",
   "metadata": {},
   "outputs": [],
   "source": [
    "l = [4,6,8,3,-10,2,1,6,7,2]"
   ]
  },
  {
   "cell_type": "code",
   "execution_count": 33,
   "id": "0cb358c3-2e98-4179-b491-1be3e97d6fe3",
   "metadata": {},
   "outputs": [
    {
     "data": {
      "text/plain": [
       "-10"
      ]
     },
     "execution_count": 33,
     "metadata": {},
     "output_type": "execute_result"
    }
   ],
   "source": [
    "# find min\n",
    "reduce(lambda x,y:x if x<y else y,l)"
   ]
  },
  {
   "cell_type": "code",
   "execution_count": 34,
   "id": "bf9dfcad-8107-4f61-969a-7cee43a8330d",
   "metadata": {},
   "outputs": [
    {
     "data": {
      "text/plain": [
       "8"
      ]
     },
     "execution_count": 34,
     "metadata": {},
     "output_type": "execute_result"
    }
   ],
   "source": [
    "# find max\n",
    "reduce(lambda x,y:x if x>y else y,l)"
   ]
  },
  {
   "cell_type": "markdown",
   "id": "8e106f0e-3f23-4858-9e99-b85f1b865772",
   "metadata": {},
   "source": [
    "## 🔍 ML Use Case Example\n",
    "#### Use map() to convert labels:"
   ]
  },
  {
   "cell_type": "code",
   "execution_count": 35,
   "id": "6bd8b9c0-9e08-4634-910f-77e0d1e67815",
   "metadata": {},
   "outputs": [
    {
     "name": "stdout",
     "output_type": "stream",
     "text": [
      "[1, 0, 1]\n"
     ]
    }
   ],
   "source": [
    "labels = ['spam', 'ham', 'spam']\n",
    "binary_labels = list(map(lambda x: 1 if x == 'spam' else 0, labels))\n",
    "print(binary_labels)  "
   ]
  },
  {
   "cell_type": "code",
   "execution_count": null,
   "id": "38187bc8-93de-4852-938a-488c59a43efb",
   "metadata": {},
   "outputs": [],
   "source": [
    "\n"
   ]
  },
  {
   "cell_type": "code",
   "execution_count": null,
   "id": "d831c6c4-c9d1-4ede-807f-490875ec1531",
   "metadata": {},
   "outputs": [],
   "source": []
  },
  {
   "cell_type": "code",
   "execution_count": null,
   "id": "07fa1557-2190-4bea-b7aa-6d46080b7c4c",
   "metadata": {},
   "outputs": [],
   "source": []
  }
 ],
 "metadata": {
  "kernelspec": {
   "display_name": "Python 3 (ipykernel)",
   "language": "python",
   "name": "python3"
  },
  "language_info": {
   "codemirror_mode": {
    "name": "ipython",
    "version": 3
   },
   "file_extension": ".py",
   "mimetype": "text/x-python",
   "name": "python",
   "nbconvert_exporter": "python",
   "pygments_lexer": "ipython3",
   "version": "3.13.2"
  }
 },
 "nbformat": 4,
 "nbformat_minor": 5
}
